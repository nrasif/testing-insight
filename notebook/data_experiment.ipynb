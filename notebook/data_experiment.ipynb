{
 "cells": [
  {
   "cell_type": "code",
   "execution_count": 2,
   "metadata": {},
   "outputs": [],
   "source": [
    "import pandas as pd\n",
    "df = pd.read_excel('../data/uat_progress.xlsx')\n",
    "df.ffill(inplace=True)\n",
    "df[['Target Execution','Execution', 'Passed', 'Failed']] = df[['Target Execution','Execution', 'Passed', 'Failed']].applymap(lambda x: x*100).astype(float)\n",
    "df[\"Tanggal\"] = pd.to_datetime(df[\"Tanggal\"], format=\"%m/%d/%Y\")"
   ]
  },
  {
   "cell_type": "code",
   "execution_count": 7,
   "metadata": {},
   "outputs": [
    {
     "data": {
      "text/html": [
       "<div>\n",
       "<style scoped>\n",
       "    .dataframe tbody tr th:only-of-type {\n",
       "        vertical-align: middle;\n",
       "    }\n",
       "\n",
       "    .dataframe tbody tr th {\n",
       "        vertical-align: top;\n",
       "    }\n",
       "\n",
       "    .dataframe thead th {\n",
       "        text-align: right;\n",
       "    }\n",
       "</style>\n",
       "<table border=\"1\" class=\"dataframe\">\n",
       "  <thead>\n",
       "    <tr style=\"text-align: right;\">\n",
       "      <th></th>\n",
       "      <th>Tanggal</th>\n",
       "      <th>Target Execution</th>\n",
       "      <th>OS</th>\n",
       "      <th>Execution</th>\n",
       "      <th>Passed</th>\n",
       "      <th>Failed</th>\n",
       "    </tr>\n",
       "  </thead>\n",
       "  <tbody>\n",
       "    <tr>\n",
       "      <th>24</th>\n",
       "      <td>2025-01-31</td>\n",
       "      <td>100.0</td>\n",
       "      <td>Android</td>\n",
       "      <td>100.0</td>\n",
       "      <td>100.0</td>\n",
       "      <td>0.0</td>\n",
       "    </tr>\n",
       "    <tr>\n",
       "      <th>25</th>\n",
       "      <td>2025-01-31</td>\n",
       "      <td>100.0</td>\n",
       "      <td>iOS</td>\n",
       "      <td>100.0</td>\n",
       "      <td>100.0</td>\n",
       "      <td>0.0</td>\n",
       "    </tr>\n",
       "  </tbody>\n",
       "</table>\n",
       "</div>"
      ],
      "text/plain": [
       "      Tanggal  Target Execution       OS  Execution  Passed  Failed\n",
       "24 2025-01-31             100.0  Android      100.0   100.0     0.0\n",
       "25 2025-01-31             100.0      iOS      100.0   100.0     0.0"
      ]
     },
     "execution_count": 7,
     "metadata": {},
     "output_type": "execute_result"
    }
   ],
   "source": [
    "df[df['Tanggal'] == df['Tanggal'].max()]\n"
   ]
  },
  {
   "cell_type": "code",
   "execution_count": 3,
   "metadata": {},
   "outputs": [],
   "source": [
    "df_android = df[df['OS'] == 'Android']\n",
    "target_exec = df['Target Execution'].tolist()"
   ]
  },
  {
   "cell_type": "code",
   "execution_count": 4,
   "metadata": {},
   "outputs": [
    {
     "data": {
      "text/plain": [
       "['Day 1: 20.0%',\n",
       " 'Day 2: 20.0%',\n",
       " 'Day 3: 40.0%',\n",
       " 'Day 4: 40.0%',\n",
       " 'Day 5: 50.0%',\n",
       " 'Day 6: 50.0%',\n",
       " 'Day 7: 60.0%',\n",
       " 'Day 8: 60.0%',\n",
       " 'Day 9: 70.0%',\n",
       " 'Day 10: 70.0%',\n",
       " 'Day 11: 80.0%',\n",
       " 'Day 12: 80.0%',\n",
       " 'Day 13: 84.0%',\n",
       " 'Day 14: 84.0%',\n",
       " 'Day 15: 88.0%',\n",
       " 'Day 16: 88.0%',\n",
       " 'Day 17: 92.0%',\n",
       " 'Day 18: 92.0%',\n",
       " 'Day 19: 96.0%',\n",
       " 'Day 20: 96.0%',\n",
       " 'Day 21: 100.0%',\n",
       " 'Day 22: 100.0%',\n",
       " 'Day 23: 100.0%',\n",
       " 'Day 24: 100.0%']"
      ]
     },
     "execution_count": 4,
     "metadata": {},
     "output_type": "execute_result"
    }
   ],
   "source": [
    "target_labels = [f\"Day {i+1}: {target_exec[i]}%\" for i in range(len(target_exec))]\n",
    "target_labels"
   ]
  },
  {
   "cell_type": "code",
   "execution_count": 5,
   "metadata": {},
   "outputs": [
    {
     "data": {
      "text/html": [
       "<div>\n",
       "<style scoped>\n",
       "    .dataframe tbody tr th:only-of-type {\n",
       "        vertical-align: middle;\n",
       "    }\n",
       "\n",
       "    .dataframe tbody tr th {\n",
       "        vertical-align: top;\n",
       "    }\n",
       "\n",
       "    .dataframe thead th {\n",
       "        text-align: right;\n",
       "    }\n",
       "</style>\n",
       "<table border=\"1\" class=\"dataframe\">\n",
       "  <thead>\n",
       "    <tr style=\"text-align: right;\">\n",
       "      <th></th>\n",
       "      <th>Tanggal</th>\n",
       "      <th>Target Execution</th>\n",
       "      <th>OS</th>\n",
       "      <th>Execution</th>\n",
       "      <th>Passed</th>\n",
       "      <th>Failed</th>\n",
       "    </tr>\n",
       "  </thead>\n",
       "  <tbody>\n",
       "    <tr>\n",
       "      <th>0</th>\n",
       "      <td>2025-01-13</td>\n",
       "      <td>20.0</td>\n",
       "      <td>Android</td>\n",
       "      <td>19.18</td>\n",
       "      <td>16.91</td>\n",
       "      <td>1.78</td>\n",
       "    </tr>\n",
       "    <tr>\n",
       "      <th>2</th>\n",
       "      <td>2025-01-14</td>\n",
       "      <td>40.0</td>\n",
       "      <td>Android</td>\n",
       "      <td>41.88</td>\n",
       "      <td>36.52</td>\n",
       "      <td>4.73</td>\n",
       "    </tr>\n",
       "    <tr>\n",
       "      <th>4</th>\n",
       "      <td>2025-01-15</td>\n",
       "      <td>50.0</td>\n",
       "      <td>Android</td>\n",
       "      <td>63.73</td>\n",
       "      <td>54.39</td>\n",
       "      <td>6.32</td>\n",
       "    </tr>\n",
       "    <tr>\n",
       "      <th>6</th>\n",
       "      <td>2025-01-16</td>\n",
       "      <td>60.0</td>\n",
       "      <td>Android</td>\n",
       "      <td>75.44</td>\n",
       "      <td>67.63</td>\n",
       "      <td>6.71</td>\n",
       "    </tr>\n",
       "    <tr>\n",
       "      <th>8</th>\n",
       "      <td>2025-01-17</td>\n",
       "      <td>70.0</td>\n",
       "      <td>Android</td>\n",
       "      <td>89.55</td>\n",
       "      <td>77.57</td>\n",
       "      <td>8.82</td>\n",
       "    </tr>\n",
       "    <tr>\n",
       "      <th>10</th>\n",
       "      <td>2025-01-20</td>\n",
       "      <td>80.0</td>\n",
       "      <td>Android</td>\n",
       "      <td>91.22</td>\n",
       "      <td>84.22</td>\n",
       "      <td>6.18</td>\n",
       "    </tr>\n",
       "    <tr>\n",
       "      <th>12</th>\n",
       "      <td>2025-01-21</td>\n",
       "      <td>84.0</td>\n",
       "      <td>Android</td>\n",
       "      <td>97.34</td>\n",
       "      <td>88.09</td>\n",
       "      <td>6.21</td>\n",
       "    </tr>\n",
       "    <tr>\n",
       "      <th>14</th>\n",
       "      <td>2025-01-22</td>\n",
       "      <td>88.0</td>\n",
       "      <td>Android</td>\n",
       "      <td>99.03</td>\n",
       "      <td>91.02</td>\n",
       "      <td>5.03</td>\n",
       "    </tr>\n",
       "    <tr>\n",
       "      <th>16</th>\n",
       "      <td>2025-01-23</td>\n",
       "      <td>92.0</td>\n",
       "      <td>Android</td>\n",
       "      <td>99.86</td>\n",
       "      <td>91.99</td>\n",
       "      <td>4.58</td>\n",
       "    </tr>\n",
       "    <tr>\n",
       "      <th>18</th>\n",
       "      <td>2025-01-24</td>\n",
       "      <td>96.0</td>\n",
       "      <td>Android</td>\n",
       "      <td>99.90</td>\n",
       "      <td>94.00</td>\n",
       "      <td>3.69</td>\n",
       "    </tr>\n",
       "    <tr>\n",
       "      <th>20</th>\n",
       "      <td>2025-01-25</td>\n",
       "      <td>100.0</td>\n",
       "      <td>Android</td>\n",
       "      <td>100.00</td>\n",
       "      <td>96.51</td>\n",
       "      <td>2.78</td>\n",
       "    </tr>\n",
       "    <tr>\n",
       "      <th>22</th>\n",
       "      <td>2025-01-30</td>\n",
       "      <td>100.0</td>\n",
       "      <td>Android</td>\n",
       "      <td>100.00</td>\n",
       "      <td>96.66</td>\n",
       "      <td>2.70</td>\n",
       "    </tr>\n",
       "  </tbody>\n",
       "</table>\n",
       "</div>"
      ],
      "text/plain": [
       "      Tanggal  Target Execution       OS  Execution  Passed  Failed\n",
       "0  2025-01-13              20.0  Android      19.18   16.91    1.78\n",
       "2  2025-01-14              40.0  Android      41.88   36.52    4.73\n",
       "4  2025-01-15              50.0  Android      63.73   54.39    6.32\n",
       "6  2025-01-16              60.0  Android      75.44   67.63    6.71\n",
       "8  2025-01-17              70.0  Android      89.55   77.57    8.82\n",
       "10 2025-01-20              80.0  Android      91.22   84.22    6.18\n",
       "12 2025-01-21              84.0  Android      97.34   88.09    6.21\n",
       "14 2025-01-22              88.0  Android      99.03   91.02    5.03\n",
       "16 2025-01-23              92.0  Android      99.86   91.99    4.58\n",
       "18 2025-01-24              96.0  Android      99.90   94.00    3.69\n",
       "20 2025-01-25             100.0  Android     100.00   96.51    2.78\n",
       "22 2025-01-30             100.0  Android     100.00   96.66    2.70"
      ]
     },
     "execution_count": 5,
     "metadata": {},
     "output_type": "execute_result"
    }
   ],
   "source": [
    "df_android"
   ]
  },
  {
   "cell_type": "code",
   "execution_count": 6,
   "metadata": {},
   "outputs": [
    {
     "data": {
      "application/vnd.plotly.v1+json": {
       "config": {
        "plotlyServerURL": "https://plot.ly"
       },
       "data": [
        {
         "hoverinfo": "y+name",
         "marker": {
          "color": "#4CAF50"
         },
         "name": "Passed",
         "type": "bar",
         "x": [
          "2025-01-13T00:00:00",
          "2025-01-14T00:00:00",
          "2025-01-15T00:00:00",
          "2025-01-16T00:00:00",
          "2025-01-17T00:00:00",
          "2025-01-20T00:00:00",
          "2025-01-21T00:00:00",
          "2025-01-22T00:00:00",
          "2025-01-23T00:00:00",
          "2025-01-24T00:00:00",
          "2025-01-25T00:00:00",
          "2025-01-30T00:00:00"
         ],
         "y": [
          16.91,
          36.52,
          54.39000000000001,
          67.63,
          77.57,
          84.22,
          88.09,
          91.02,
          91.99000000000001,
          94,
          96.50999999999999,
          96.66
         ]
        },
        {
         "hoverinfo": "y+name",
         "marker": {
          "color": "#F44336"
         },
         "name": "Failed",
         "type": "bar",
         "x": [
          "2025-01-13T00:00:00",
          "2025-01-14T00:00:00",
          "2025-01-15T00:00:00",
          "2025-01-16T00:00:00",
          "2025-01-17T00:00:00",
          "2025-01-20T00:00:00",
          "2025-01-21T00:00:00",
          "2025-01-22T00:00:00",
          "2025-01-23T00:00:00",
          "2025-01-24T00:00:00",
          "2025-01-25T00:00:00",
          "2025-01-30T00:00:00"
         ],
         "y": [
          1.78,
          4.73,
          6.32,
          6.710000000000001,
          8.82,
          6.18,
          6.21,
          5.029999999999999,
          4.58,
          3.6900000000000004,
          2.78,
          2.7
         ]
        },
        {
         "hoverinfo": "y+name",
         "marker": {
          "color": "#ddd"
         },
         "name": "Other",
         "type": "bar",
         "x": [
          "2025-01-13T00:00:00",
          "2025-01-14T00:00:00",
          "2025-01-15T00:00:00",
          "2025-01-16T00:00:00",
          "2025-01-17T00:00:00",
          "2025-01-20T00:00:00",
          "2025-01-21T00:00:00",
          "2025-01-22T00:00:00",
          "2025-01-23T00:00:00",
          "2025-01-24T00:00:00",
          "2025-01-25T00:00:00",
          "2025-01-30T00:00:00"
         ],
         "y": [
          0.48999999999999955,
          0.629999999999999,
          3.019999999999989,
          1.1000000000000014,
          3.1600000000000037,
          0.8200000000000003,
          3.04,
          2.9800000000000058,
          3.2899999999999903,
          2.2100000000000053,
          0.7100000000000093,
          0.6400000000000032
         ]
        },
        {
         "hoverinfo": "y+name",
         "line": {
          "color": "#2196F3",
          "width": 3
         },
         "marker": {
          "size": 8
         },
         "mode": "lines+markers",
         "name": "Execution",
         "type": "scatter",
         "x": [
          "2025-01-13T00:00:00",
          "2025-01-14T00:00:00",
          "2025-01-15T00:00:00",
          "2025-01-16T00:00:00",
          "2025-01-17T00:00:00",
          "2025-01-20T00:00:00",
          "2025-01-21T00:00:00",
          "2025-01-22T00:00:00",
          "2025-01-23T00:00:00",
          "2025-01-24T00:00:00",
          "2025-01-25T00:00:00",
          "2025-01-30T00:00:00"
         ],
         "y": [
          19.18,
          41.88,
          63.73,
          75.44,
          89.55,
          91.22,
          97.34,
          99.03,
          99.86,
          99.9,
          100,
          100
         ]
        },
        {
         "hoverinfo": "y+name",
         "line": {
          "color": "#000",
          "width": 3
         },
         "marker": {
          "size": 8
         },
         "mode": "lines+markers",
         "name": "Target",
         "type": "scatter",
         "x": [
          "2025-01-13T00:00:00",
          "2025-01-14T00:00:00",
          "2025-01-15T00:00:00",
          "2025-01-16T00:00:00",
          "2025-01-17T00:00:00",
          "2025-01-20T00:00:00",
          "2025-01-21T00:00:00",
          "2025-01-22T00:00:00",
          "2025-01-23T00:00:00",
          "2025-01-24T00:00:00",
          "2025-01-25T00:00:00",
          "2025-01-30T00:00:00"
         ],
         "y": [
          20,
          40,
          50,
          60,
          70,
          80,
          84,
          88,
          92,
          96,
          100,
          100
         ]
        }
       ],
       "layout": {
        "barmode": "stack",
        "hovermode": "x unified",
        "legend": {
         "title": {
          "text": "Metrics"
         }
        },
        "plot_bgcolor": "white",
        "template": {
         "data": {
          "bar": [
           {
            "error_x": {
             "color": "#2a3f5f"
            },
            "error_y": {
             "color": "#2a3f5f"
            },
            "marker": {
             "line": {
              "color": "#E5ECF6",
              "width": 0.5
             },
             "pattern": {
              "fillmode": "overlay",
              "size": 10,
              "solidity": 0.2
             }
            },
            "type": "bar"
           }
          ],
          "barpolar": [
           {
            "marker": {
             "line": {
              "color": "#E5ECF6",
              "width": 0.5
             },
             "pattern": {
              "fillmode": "overlay",
              "size": 10,
              "solidity": 0.2
             }
            },
            "type": "barpolar"
           }
          ],
          "carpet": [
           {
            "aaxis": {
             "endlinecolor": "#2a3f5f",
             "gridcolor": "white",
             "linecolor": "white",
             "minorgridcolor": "white",
             "startlinecolor": "#2a3f5f"
            },
            "baxis": {
             "endlinecolor": "#2a3f5f",
             "gridcolor": "white",
             "linecolor": "white",
             "minorgridcolor": "white",
             "startlinecolor": "#2a3f5f"
            },
            "type": "carpet"
           }
          ],
          "choropleth": [
           {
            "colorbar": {
             "outlinewidth": 0,
             "ticks": ""
            },
            "type": "choropleth"
           }
          ],
          "contour": [
           {
            "colorbar": {
             "outlinewidth": 0,
             "ticks": ""
            },
            "colorscale": [
             [
              0,
              "#0d0887"
             ],
             [
              0.1111111111111111,
              "#46039f"
             ],
             [
              0.2222222222222222,
              "#7201a8"
             ],
             [
              0.3333333333333333,
              "#9c179e"
             ],
             [
              0.4444444444444444,
              "#bd3786"
             ],
             [
              0.5555555555555556,
              "#d8576b"
             ],
             [
              0.6666666666666666,
              "#ed7953"
             ],
             [
              0.7777777777777778,
              "#fb9f3a"
             ],
             [
              0.8888888888888888,
              "#fdca26"
             ],
             [
              1,
              "#f0f921"
             ]
            ],
            "type": "contour"
           }
          ],
          "contourcarpet": [
           {
            "colorbar": {
             "outlinewidth": 0,
             "ticks": ""
            },
            "type": "contourcarpet"
           }
          ],
          "heatmap": [
           {
            "colorbar": {
             "outlinewidth": 0,
             "ticks": ""
            },
            "colorscale": [
             [
              0,
              "#0d0887"
             ],
             [
              0.1111111111111111,
              "#46039f"
             ],
             [
              0.2222222222222222,
              "#7201a8"
             ],
             [
              0.3333333333333333,
              "#9c179e"
             ],
             [
              0.4444444444444444,
              "#bd3786"
             ],
             [
              0.5555555555555556,
              "#d8576b"
             ],
             [
              0.6666666666666666,
              "#ed7953"
             ],
             [
              0.7777777777777778,
              "#fb9f3a"
             ],
             [
              0.8888888888888888,
              "#fdca26"
             ],
             [
              1,
              "#f0f921"
             ]
            ],
            "type": "heatmap"
           }
          ],
          "heatmapgl": [
           {
            "colorbar": {
             "outlinewidth": 0,
             "ticks": ""
            },
            "colorscale": [
             [
              0,
              "#0d0887"
             ],
             [
              0.1111111111111111,
              "#46039f"
             ],
             [
              0.2222222222222222,
              "#7201a8"
             ],
             [
              0.3333333333333333,
              "#9c179e"
             ],
             [
              0.4444444444444444,
              "#bd3786"
             ],
             [
              0.5555555555555556,
              "#d8576b"
             ],
             [
              0.6666666666666666,
              "#ed7953"
             ],
             [
              0.7777777777777778,
              "#fb9f3a"
             ],
             [
              0.8888888888888888,
              "#fdca26"
             ],
             [
              1,
              "#f0f921"
             ]
            ],
            "type": "heatmapgl"
           }
          ],
          "histogram": [
           {
            "marker": {
             "pattern": {
              "fillmode": "overlay",
              "size": 10,
              "solidity": 0.2
             }
            },
            "type": "histogram"
           }
          ],
          "histogram2d": [
           {
            "colorbar": {
             "outlinewidth": 0,
             "ticks": ""
            },
            "colorscale": [
             [
              0,
              "#0d0887"
             ],
             [
              0.1111111111111111,
              "#46039f"
             ],
             [
              0.2222222222222222,
              "#7201a8"
             ],
             [
              0.3333333333333333,
              "#9c179e"
             ],
             [
              0.4444444444444444,
              "#bd3786"
             ],
             [
              0.5555555555555556,
              "#d8576b"
             ],
             [
              0.6666666666666666,
              "#ed7953"
             ],
             [
              0.7777777777777778,
              "#fb9f3a"
             ],
             [
              0.8888888888888888,
              "#fdca26"
             ],
             [
              1,
              "#f0f921"
             ]
            ],
            "type": "histogram2d"
           }
          ],
          "histogram2dcontour": [
           {
            "colorbar": {
             "outlinewidth": 0,
             "ticks": ""
            },
            "colorscale": [
             [
              0,
              "#0d0887"
             ],
             [
              0.1111111111111111,
              "#46039f"
             ],
             [
              0.2222222222222222,
              "#7201a8"
             ],
             [
              0.3333333333333333,
              "#9c179e"
             ],
             [
              0.4444444444444444,
              "#bd3786"
             ],
             [
              0.5555555555555556,
              "#d8576b"
             ],
             [
              0.6666666666666666,
              "#ed7953"
             ],
             [
              0.7777777777777778,
              "#fb9f3a"
             ],
             [
              0.8888888888888888,
              "#fdca26"
             ],
             [
              1,
              "#f0f921"
             ]
            ],
            "type": "histogram2dcontour"
           }
          ],
          "mesh3d": [
           {
            "colorbar": {
             "outlinewidth": 0,
             "ticks": ""
            },
            "type": "mesh3d"
           }
          ],
          "parcoords": [
           {
            "line": {
             "colorbar": {
              "outlinewidth": 0,
              "ticks": ""
             }
            },
            "type": "parcoords"
           }
          ],
          "pie": [
           {
            "automargin": true,
            "type": "pie"
           }
          ],
          "scatter": [
           {
            "fillpattern": {
             "fillmode": "overlay",
             "size": 10,
             "solidity": 0.2
            },
            "type": "scatter"
           }
          ],
          "scatter3d": [
           {
            "line": {
             "colorbar": {
              "outlinewidth": 0,
              "ticks": ""
             }
            },
            "marker": {
             "colorbar": {
              "outlinewidth": 0,
              "ticks": ""
             }
            },
            "type": "scatter3d"
           }
          ],
          "scattercarpet": [
           {
            "marker": {
             "colorbar": {
              "outlinewidth": 0,
              "ticks": ""
             }
            },
            "type": "scattercarpet"
           }
          ],
          "scattergeo": [
           {
            "marker": {
             "colorbar": {
              "outlinewidth": 0,
              "ticks": ""
             }
            },
            "type": "scattergeo"
           }
          ],
          "scattergl": [
           {
            "marker": {
             "colorbar": {
              "outlinewidth": 0,
              "ticks": ""
             }
            },
            "type": "scattergl"
           }
          ],
          "scattermapbox": [
           {
            "marker": {
             "colorbar": {
              "outlinewidth": 0,
              "ticks": ""
             }
            },
            "type": "scattermapbox"
           }
          ],
          "scatterpolar": [
           {
            "marker": {
             "colorbar": {
              "outlinewidth": 0,
              "ticks": ""
             }
            },
            "type": "scatterpolar"
           }
          ],
          "scatterpolargl": [
           {
            "marker": {
             "colorbar": {
              "outlinewidth": 0,
              "ticks": ""
             }
            },
            "type": "scatterpolargl"
           }
          ],
          "scatterternary": [
           {
            "marker": {
             "colorbar": {
              "outlinewidth": 0,
              "ticks": ""
             }
            },
            "type": "scatterternary"
           }
          ],
          "surface": [
           {
            "colorbar": {
             "outlinewidth": 0,
             "ticks": ""
            },
            "colorscale": [
             [
              0,
              "#0d0887"
             ],
             [
              0.1111111111111111,
              "#46039f"
             ],
             [
              0.2222222222222222,
              "#7201a8"
             ],
             [
              0.3333333333333333,
              "#9c179e"
             ],
             [
              0.4444444444444444,
              "#bd3786"
             ],
             [
              0.5555555555555556,
              "#d8576b"
             ],
             [
              0.6666666666666666,
              "#ed7953"
             ],
             [
              0.7777777777777778,
              "#fb9f3a"
             ],
             [
              0.8888888888888888,
              "#fdca26"
             ],
             [
              1,
              "#f0f921"
             ]
            ],
            "type": "surface"
           }
          ],
          "table": [
           {
            "cells": {
             "fill": {
              "color": "#EBF0F8"
             },
             "line": {
              "color": "white"
             }
            },
            "header": {
             "fill": {
              "color": "#C8D4E3"
             },
             "line": {
              "color": "white"
             }
            },
            "type": "table"
           }
          ]
         },
         "layout": {
          "annotationdefaults": {
           "arrowcolor": "#2a3f5f",
           "arrowhead": 0,
           "arrowwidth": 1
          },
          "autotypenumbers": "strict",
          "coloraxis": {
           "colorbar": {
            "outlinewidth": 0,
            "ticks": ""
           }
          },
          "colorscale": {
           "diverging": [
            [
             0,
             "#8e0152"
            ],
            [
             0.1,
             "#c51b7d"
            ],
            [
             0.2,
             "#de77ae"
            ],
            [
             0.3,
             "#f1b6da"
            ],
            [
             0.4,
             "#fde0ef"
            ],
            [
             0.5,
             "#f7f7f7"
            ],
            [
             0.6,
             "#e6f5d0"
            ],
            [
             0.7,
             "#b8e186"
            ],
            [
             0.8,
             "#7fbc41"
            ],
            [
             0.9,
             "#4d9221"
            ],
            [
             1,
             "#276419"
            ]
           ],
           "sequential": [
            [
             0,
             "#0d0887"
            ],
            [
             0.1111111111111111,
             "#46039f"
            ],
            [
             0.2222222222222222,
             "#7201a8"
            ],
            [
             0.3333333333333333,
             "#9c179e"
            ],
            [
             0.4444444444444444,
             "#bd3786"
            ],
            [
             0.5555555555555556,
             "#d8576b"
            ],
            [
             0.6666666666666666,
             "#ed7953"
            ],
            [
             0.7777777777777778,
             "#fb9f3a"
            ],
            [
             0.8888888888888888,
             "#fdca26"
            ],
            [
             1,
             "#f0f921"
            ]
           ],
           "sequentialminus": [
            [
             0,
             "#0d0887"
            ],
            [
             0.1111111111111111,
             "#46039f"
            ],
            [
             0.2222222222222222,
             "#7201a8"
            ],
            [
             0.3333333333333333,
             "#9c179e"
            ],
            [
             0.4444444444444444,
             "#bd3786"
            ],
            [
             0.5555555555555556,
             "#d8576b"
            ],
            [
             0.6666666666666666,
             "#ed7953"
            ],
            [
             0.7777777777777778,
             "#fb9f3a"
            ],
            [
             0.8888888888888888,
             "#fdca26"
            ],
            [
             1,
             "#f0f921"
            ]
           ]
          },
          "colorway": [
           "#636efa",
           "#EF553B",
           "#00cc96",
           "#ab63fa",
           "#FFA15A",
           "#19d3f3",
           "#FF6692",
           "#B6E880",
           "#FF97FF",
           "#FECB52"
          ],
          "font": {
           "color": "#2a3f5f"
          },
          "geo": {
           "bgcolor": "white",
           "lakecolor": "white",
           "landcolor": "#E5ECF6",
           "showlakes": true,
           "showland": true,
           "subunitcolor": "white"
          },
          "hoverlabel": {
           "align": "left"
          },
          "hovermode": "closest",
          "mapbox": {
           "style": "light"
          },
          "paper_bgcolor": "white",
          "plot_bgcolor": "#E5ECF6",
          "polar": {
           "angularaxis": {
            "gridcolor": "white",
            "linecolor": "white",
            "ticks": ""
           },
           "bgcolor": "#E5ECF6",
           "radialaxis": {
            "gridcolor": "white",
            "linecolor": "white",
            "ticks": ""
           }
          },
          "scene": {
           "xaxis": {
            "backgroundcolor": "#E5ECF6",
            "gridcolor": "white",
            "gridwidth": 2,
            "linecolor": "white",
            "showbackground": true,
            "ticks": "",
            "zerolinecolor": "white"
           },
           "yaxis": {
            "backgroundcolor": "#E5ECF6",
            "gridcolor": "white",
            "gridwidth": 2,
            "linecolor": "white",
            "showbackground": true,
            "ticks": "",
            "zerolinecolor": "white"
           },
           "zaxis": {
            "backgroundcolor": "#E5ECF6",
            "gridcolor": "white",
            "gridwidth": 2,
            "linecolor": "white",
            "showbackground": true,
            "ticks": "",
            "zerolinecolor": "white"
           }
          },
          "shapedefaults": {
           "line": {
            "color": "#2a3f5f"
           }
          },
          "ternary": {
           "aaxis": {
            "gridcolor": "white",
            "linecolor": "white",
            "ticks": ""
           },
           "baxis": {
            "gridcolor": "white",
            "linecolor": "white",
            "ticks": ""
           },
           "bgcolor": "#E5ECF6",
           "caxis": {
            "gridcolor": "white",
            "linecolor": "white",
            "ticks": ""
           }
          },
          "title": {
           "x": 0.05
          },
          "xaxis": {
           "automargin": true,
           "gridcolor": "white",
           "linecolor": "white",
           "ticks": "",
           "title": {
            "standoff": 15
           },
           "zerolinecolor": "white",
           "zerolinewidth": 2
          },
          "yaxis": {
           "automargin": true,
           "gridcolor": "white",
           "linecolor": "white",
           "ticks": "",
           "title": {
            "standoff": 15
           },
           "zerolinecolor": "white",
           "zerolinewidth": 2
          }
         }
        },
        "title": {
         "text": "Test Execution Metrics"
        },
        "xaxis": {
         "title": {
          "text": "Date"
         }
        },
        "yaxis": {
         "title": {
          "text": "Count"
         }
        }
       }
      }
     },
     "metadata": {},
     "output_type": "display_data"
    }
   ],
   "source": [
    "import pandas as pd\n",
    "import plotly.graph_objects as go\n",
    "\n",
    "\n",
    "\n",
    "# Create figure\n",
    "fig = go.Figure()\n",
    "\n",
    "# Add stacked bars (Passed + Failed)\n",
    "fig.add_trace(go.Bar(\n",
    "    x=df_android['Tanggal'],\n",
    "    y=df_android['Passed'],\n",
    "    name='Passed',\n",
    "    marker_color='#4CAF50',  # Green\n",
    "    hoverinfo='y+name'\n",
    "))\n",
    "\n",
    "fig.add_trace(go.Bar(\n",
    "    x=df_android['Tanggal'],\n",
    "    y=df_android['Failed'],\n",
    "    name='Failed',\n",
    "    marker_color='#F44336',  # Red\n",
    "    hoverinfo='y+name'\n",
    "))\n",
    "\n",
    "fig.add_trace(go.Bar(\n",
    "    x=df_android['Tanggal'],\n",
    "    y=df_android['Execution'] - df_android['Passed'] - df_android['Failed'],\n",
    "    name='Other',\n",
    "    marker_color='#ddd',  # Red\n",
    "    hoverinfo='y+name'\n",
    "))\n",
    "\n",
    "# Add Execution line\n",
    "fig.add_trace(go.Scatter(\n",
    "    x=df_android['Tanggal'],\n",
    "    y=df_android['Execution'],\n",
    "    name='Execution',\n",
    "    mode='lines+markers',\n",
    "    line={'color': '#2196F3', 'width': 3},  # Blue\n",
    "    marker={'size': 8},\n",
    "    hoverinfo='y+name'\n",
    "))\n",
    "\n",
    "fig.add_trace(go.Scatter(\n",
    "    x=df_android['Tanggal'],\n",
    "    y=df_android['Target Execution'],\n",
    "    name='Target',\n",
    "    mode='lines+markers',\n",
    "    line={'color': '#000', 'width': 3},  # Blue\n",
    "    marker={'size': 8},\n",
    "    hoverinfo='y+name'\n",
    "))\n",
    "\n",
    "# Customize layout\n",
    "fig.update_layout(\n",
    "    barmode='stack',\n",
    "    title='Test Execution Metrics',\n",
    "    xaxis_title='Date',\n",
    "    yaxis_title='Count',\n",
    "    hovermode='x unified',\n",
    "    legend_title='Metrics',\n",
    "    plot_bgcolor='white'\n",
    ")\n",
    "\n",
    "fig.show()"
   ]
  },
  {
   "cell_type": "code",
   "execution_count": 7,
   "metadata": {},
   "outputs": [
    {
     "name": "stderr",
     "output_type": "stream",
     "text": [
      "C:\\Users\\nahar\\AppData\\Local\\Temp\\ipykernel_4804\\2925207160.py:4: SettingWithCopyWarning:\n",
      "\n",
      "\n",
      "A value is trying to be set on a copy of a slice from a DataFrame.\n",
      "Try using .loc[row_indexer,col_indexer] = value instead\n",
      "\n",
      "See the caveats in the documentation: https://pandas.pydata.org/pandas-docs/stable/user_guide/indexing.html#returning-a-view-versus-a-copy\n",
      "\n"
     ]
    },
    {
     "data": {
      "application/vnd.plotly.v1+json": {
       "config": {
        "plotlyServerURL": "https://plot.ly"
       },
       "data": [
        {
         "hoverinfo": "x+y+name",
         "marker": {
          "color": "#6D9F71"
         },
         "name": "Passed",
         "text": [
          "16.91%",
          "36.52%",
          "54.39%",
          "67.63%",
          "77.57%",
          "84.22%",
          "88.09%",
          "91.02%",
          "91.99%",
          "94.00%",
          "96.51%",
          "96.66%"
         ],
         "textfont": {
          "color": "white",
          "size": 14
         },
         "textposition": "inside",
         "type": "bar",
         "x": [
          "2025-01-13T00:00:00",
          "2025-01-14T00:00:00",
          "2025-01-15T00:00:00",
          "2025-01-16T00:00:00",
          "2025-01-17T00:00:00",
          "2025-01-20T00:00:00",
          "2025-01-21T00:00:00",
          "2025-01-22T00:00:00",
          "2025-01-23T00:00:00",
          "2025-01-24T00:00:00",
          "2025-01-25T00:00:00",
          "2025-01-30T00:00:00"
         ],
         "y": [
          16.91,
          36.52,
          54.39000000000001,
          67.63,
          77.57,
          84.22,
          88.09,
          91.02,
          91.99000000000001,
          94,
          96.50999999999999,
          96.66
         ]
        },
        {
         "hoverinfo": "x+y+name",
         "marker": {
          "color": "#C44E52"
         },
         "name": "Failed",
         "text": [
          "1.78%",
          "4.73%",
          "6.32%",
          "6.71%",
          "8.82%",
          "6.18%",
          "6.21%",
          "5.03%",
          "4.58%",
          "3.69%",
          "2.78%",
          "2.70%"
         ],
         "textfont": {
          "color": "white",
          "size": 14
         },
         "textposition": "inside",
         "type": "bar",
         "x": [
          "2025-01-13T00:00:00",
          "2025-01-14T00:00:00",
          "2025-01-15T00:00:00",
          "2025-01-16T00:00:00",
          "2025-01-17T00:00:00",
          "2025-01-20T00:00:00",
          "2025-01-21T00:00:00",
          "2025-01-22T00:00:00",
          "2025-01-23T00:00:00",
          "2025-01-24T00:00:00",
          "2025-01-25T00:00:00",
          "2025-01-30T00:00:00"
         ],
         "y": [
          1.78,
          4.73,
          6.32,
          6.710000000000001,
          8.82,
          6.18,
          6.21,
          5.029999999999999,
          4.58,
          3.6900000000000004,
          2.78,
          2.7
         ]
        },
        {
         "hoverinfo": "x+y+name",
         "marker": {
          "color": "#ddd"
         },
         "name": "Other",
         "text": [
          "0.49%",
          "0.63%",
          "3.02%",
          "1.10%",
          "3.16%",
          "0.82%",
          "3.04%",
          "2.98%",
          "3.29%",
          "2.21%",
          "0.71%",
          "0.64%"
         ],
         "textfont": {
          "color": "white",
          "size": 14
         },
         "textposition": "inside",
         "type": "bar",
         "x": [
          "2025-01-13T00:00:00",
          "2025-01-14T00:00:00",
          "2025-01-15T00:00:00",
          "2025-01-16T00:00:00",
          "2025-01-17T00:00:00",
          "2025-01-20T00:00:00",
          "2025-01-21T00:00:00",
          "2025-01-22T00:00:00",
          "2025-01-23T00:00:00",
          "2025-01-24T00:00:00",
          "2025-01-25T00:00:00",
          "2025-01-30T00:00:00"
         ],
         "y": [
          0.48999999999999955,
          0.629999999999999,
          3.019999999999989,
          1.1000000000000014,
          3.1600000000000037,
          0.8200000000000003,
          3.04,
          2.9800000000000058,
          3.2899999999999903,
          2.2100000000000053,
          0.7100000000000093,
          0.6400000000000032
         ]
        },
        {
         "hoverinfo": "x+y+name",
         "line": {
          "color": "#41729F",
          "dash": "solid",
          "width": 3
         },
         "marker": {
          "size": 8,
          "symbol": "circle"
         },
         "mode": "lines+markers",
         "name": "Execution",
         "text": [
          "19.18%",
          "41.88%",
          "63.73%",
          "75.44%",
          "89.55%",
          "91.22%",
          "97.34%",
          "99.03%",
          "99.86%",
          "99.90%",
          "100.00%",
          "100.00%"
         ],
         "textposition": "top center",
         "type": "scatter",
         "x": [
          "2025-01-13T00:00:00",
          "2025-01-14T00:00:00",
          "2025-01-15T00:00:00",
          "2025-01-16T00:00:00",
          "2025-01-17T00:00:00",
          "2025-01-20T00:00:00",
          "2025-01-21T00:00:00",
          "2025-01-22T00:00:00",
          "2025-01-23T00:00:00",
          "2025-01-24T00:00:00",
          "2025-01-25T00:00:00",
          "2025-01-30T00:00:00"
         ],
         "y": [
          19.18,
          41.88,
          63.73,
          75.44,
          89.55,
          91.22,
          97.34,
          99.03,
          99.86,
          99.9,
          100,
          100
         ]
        },
        {
         "hoverinfo": "x+y+name",
         "line": {
          "color": "#555555",
          "dash": "dash",
          "width": 2
         },
         "marker": {
          "color": "#555555",
          "size": 7,
          "symbol": "diamond"
         },
         "mode": "lines+markers",
         "name": "Target Execution",
         "text": [
          "20.00%",
          "40.00%",
          "50.00%",
          "60.00%",
          "70.00%",
          "80.00%",
          "84.00%",
          "88.00%",
          "92.00%",
          "96.00%",
          "100.00%",
          "100.00%"
         ],
         "textposition": "top center",
         "type": "scatter",
         "x": [
          "2025-01-13T00:00:00",
          "2025-01-14T00:00:00",
          "2025-01-15T00:00:00",
          "2025-01-16T00:00:00",
          "2025-01-17T00:00:00",
          "2025-01-20T00:00:00",
          "2025-01-21T00:00:00",
          "2025-01-22T00:00:00",
          "2025-01-23T00:00:00",
          "2025-01-24T00:00:00",
          "2025-01-25T00:00:00",
          "2025-01-30T00:00:00"
         ],
         "y": [
          20,
          40,
          50,
          60,
          70,
          80,
          84,
          88,
          92,
          96,
          100,
          100
         ]
        }
       ],
       "layout": {
        "annotations": [
         {
          "align": "center",
          "font": {
           "color": "black",
           "size": 11
          },
          "showarrow": false,
          "text": "19.18%",
          "x": "2025-01-13T00:00:00",
          "y": 24.18
         },
         {
          "align": "center",
          "font": {
           "color": "black",
           "size": 11
          },
          "showarrow": false,
          "text": "41.88%",
          "x": "2025-01-14T00:00:00",
          "y": 46.88
         },
         {
          "align": "center",
          "font": {
           "color": "black",
           "size": 11
          },
          "showarrow": false,
          "text": "63.73%",
          "x": "2025-01-15T00:00:00",
          "y": 68.72999999999999
         },
         {
          "align": "center",
          "font": {
           "color": "black",
           "size": 11
          },
          "showarrow": false,
          "text": "75.44%",
          "x": "2025-01-16T00:00:00",
          "y": 80.44
         },
         {
          "align": "center",
          "font": {
           "color": "black",
           "size": 11
          },
          "showarrow": false,
          "text": "89.55%",
          "x": "2025-01-17T00:00:00",
          "y": 94.55
         },
         {
          "align": "center",
          "font": {
           "color": "black",
           "size": 11
          },
          "showarrow": false,
          "text": "91.22%",
          "x": "2025-01-20T00:00:00",
          "y": 96.22
         },
         {
          "align": "center",
          "font": {
           "color": "black",
           "size": 11
          },
          "showarrow": false,
          "text": "97.34%",
          "x": "2025-01-21T00:00:00",
          "y": 102.34
         },
         {
          "align": "center",
          "font": {
           "color": "black",
           "size": 11
          },
          "showarrow": false,
          "text": "99.03%",
          "x": "2025-01-22T00:00:00",
          "y": 104.03
         },
         {
          "align": "center",
          "font": {
           "color": "black",
           "size": 11
          },
          "showarrow": false,
          "text": "99.86%",
          "x": "2025-01-23T00:00:00",
          "y": 104.86
         },
         {
          "align": "center",
          "font": {
           "color": "black",
           "size": 11
          },
          "showarrow": false,
          "text": "99.90%",
          "x": "2025-01-24T00:00:00",
          "y": 104.9
         },
         {
          "align": "center",
          "font": {
           "color": "black",
           "size": 11
          },
          "showarrow": false,
          "text": "100.00%",
          "x": "2025-01-25T00:00:00",
          "y": 105
         },
         {
          "align": "center",
          "font": {
           "color": "black",
           "size": 11
          },
          "showarrow": false,
          "text": "100.00%",
          "x": "2025-01-30T00:00:00",
          "y": 105
         }
        ],
        "barmode": "stack",
        "height": 500,
        "hovermode": "x unified",
        "legend": {
         "bordercolor": "black",
         "borderwidth": 1,
         "title": {
          "text": "Metrics"
         }
        },
        "plot_bgcolor": "white",
        "template": {
         "data": {
          "bar": [
           {
            "error_x": {
             "color": "#2a3f5f"
            },
            "error_y": {
             "color": "#2a3f5f"
            },
            "marker": {
             "line": {
              "color": "#E5ECF6",
              "width": 0.5
             },
             "pattern": {
              "fillmode": "overlay",
              "size": 10,
              "solidity": 0.2
             }
            },
            "type": "bar"
           }
          ],
          "barpolar": [
           {
            "marker": {
             "line": {
              "color": "#E5ECF6",
              "width": 0.5
             },
             "pattern": {
              "fillmode": "overlay",
              "size": 10,
              "solidity": 0.2
             }
            },
            "type": "barpolar"
           }
          ],
          "carpet": [
           {
            "aaxis": {
             "endlinecolor": "#2a3f5f",
             "gridcolor": "white",
             "linecolor": "white",
             "minorgridcolor": "white",
             "startlinecolor": "#2a3f5f"
            },
            "baxis": {
             "endlinecolor": "#2a3f5f",
             "gridcolor": "white",
             "linecolor": "white",
             "minorgridcolor": "white",
             "startlinecolor": "#2a3f5f"
            },
            "type": "carpet"
           }
          ],
          "choropleth": [
           {
            "colorbar": {
             "outlinewidth": 0,
             "ticks": ""
            },
            "type": "choropleth"
           }
          ],
          "contour": [
           {
            "colorbar": {
             "outlinewidth": 0,
             "ticks": ""
            },
            "colorscale": [
             [
              0,
              "#0d0887"
             ],
             [
              0.1111111111111111,
              "#46039f"
             ],
             [
              0.2222222222222222,
              "#7201a8"
             ],
             [
              0.3333333333333333,
              "#9c179e"
             ],
             [
              0.4444444444444444,
              "#bd3786"
             ],
             [
              0.5555555555555556,
              "#d8576b"
             ],
             [
              0.6666666666666666,
              "#ed7953"
             ],
             [
              0.7777777777777778,
              "#fb9f3a"
             ],
             [
              0.8888888888888888,
              "#fdca26"
             ],
             [
              1,
              "#f0f921"
             ]
            ],
            "type": "contour"
           }
          ],
          "contourcarpet": [
           {
            "colorbar": {
             "outlinewidth": 0,
             "ticks": ""
            },
            "type": "contourcarpet"
           }
          ],
          "heatmap": [
           {
            "colorbar": {
             "outlinewidth": 0,
             "ticks": ""
            },
            "colorscale": [
             [
              0,
              "#0d0887"
             ],
             [
              0.1111111111111111,
              "#46039f"
             ],
             [
              0.2222222222222222,
              "#7201a8"
             ],
             [
              0.3333333333333333,
              "#9c179e"
             ],
             [
              0.4444444444444444,
              "#bd3786"
             ],
             [
              0.5555555555555556,
              "#d8576b"
             ],
             [
              0.6666666666666666,
              "#ed7953"
             ],
             [
              0.7777777777777778,
              "#fb9f3a"
             ],
             [
              0.8888888888888888,
              "#fdca26"
             ],
             [
              1,
              "#f0f921"
             ]
            ],
            "type": "heatmap"
           }
          ],
          "heatmapgl": [
           {
            "colorbar": {
             "outlinewidth": 0,
             "ticks": ""
            },
            "colorscale": [
             [
              0,
              "#0d0887"
             ],
             [
              0.1111111111111111,
              "#46039f"
             ],
             [
              0.2222222222222222,
              "#7201a8"
             ],
             [
              0.3333333333333333,
              "#9c179e"
             ],
             [
              0.4444444444444444,
              "#bd3786"
             ],
             [
              0.5555555555555556,
              "#d8576b"
             ],
             [
              0.6666666666666666,
              "#ed7953"
             ],
             [
              0.7777777777777778,
              "#fb9f3a"
             ],
             [
              0.8888888888888888,
              "#fdca26"
             ],
             [
              1,
              "#f0f921"
             ]
            ],
            "type": "heatmapgl"
           }
          ],
          "histogram": [
           {
            "marker": {
             "pattern": {
              "fillmode": "overlay",
              "size": 10,
              "solidity": 0.2
             }
            },
            "type": "histogram"
           }
          ],
          "histogram2d": [
           {
            "colorbar": {
             "outlinewidth": 0,
             "ticks": ""
            },
            "colorscale": [
             [
              0,
              "#0d0887"
             ],
             [
              0.1111111111111111,
              "#46039f"
             ],
             [
              0.2222222222222222,
              "#7201a8"
             ],
             [
              0.3333333333333333,
              "#9c179e"
             ],
             [
              0.4444444444444444,
              "#bd3786"
             ],
             [
              0.5555555555555556,
              "#d8576b"
             ],
             [
              0.6666666666666666,
              "#ed7953"
             ],
             [
              0.7777777777777778,
              "#fb9f3a"
             ],
             [
              0.8888888888888888,
              "#fdca26"
             ],
             [
              1,
              "#f0f921"
             ]
            ],
            "type": "histogram2d"
           }
          ],
          "histogram2dcontour": [
           {
            "colorbar": {
             "outlinewidth": 0,
             "ticks": ""
            },
            "colorscale": [
             [
              0,
              "#0d0887"
             ],
             [
              0.1111111111111111,
              "#46039f"
             ],
             [
              0.2222222222222222,
              "#7201a8"
             ],
             [
              0.3333333333333333,
              "#9c179e"
             ],
             [
              0.4444444444444444,
              "#bd3786"
             ],
             [
              0.5555555555555556,
              "#d8576b"
             ],
             [
              0.6666666666666666,
              "#ed7953"
             ],
             [
              0.7777777777777778,
              "#fb9f3a"
             ],
             [
              0.8888888888888888,
              "#fdca26"
             ],
             [
              1,
              "#f0f921"
             ]
            ],
            "type": "histogram2dcontour"
           }
          ],
          "mesh3d": [
           {
            "colorbar": {
             "outlinewidth": 0,
             "ticks": ""
            },
            "type": "mesh3d"
           }
          ],
          "parcoords": [
           {
            "line": {
             "colorbar": {
              "outlinewidth": 0,
              "ticks": ""
             }
            },
            "type": "parcoords"
           }
          ],
          "pie": [
           {
            "automargin": true,
            "type": "pie"
           }
          ],
          "scatter": [
           {
            "fillpattern": {
             "fillmode": "overlay",
             "size": 10,
             "solidity": 0.2
            },
            "type": "scatter"
           }
          ],
          "scatter3d": [
           {
            "line": {
             "colorbar": {
              "outlinewidth": 0,
              "ticks": ""
             }
            },
            "marker": {
             "colorbar": {
              "outlinewidth": 0,
              "ticks": ""
             }
            },
            "type": "scatter3d"
           }
          ],
          "scattercarpet": [
           {
            "marker": {
             "colorbar": {
              "outlinewidth": 0,
              "ticks": ""
             }
            },
            "type": "scattercarpet"
           }
          ],
          "scattergeo": [
           {
            "marker": {
             "colorbar": {
              "outlinewidth": 0,
              "ticks": ""
             }
            },
            "type": "scattergeo"
           }
          ],
          "scattergl": [
           {
            "marker": {
             "colorbar": {
              "outlinewidth": 0,
              "ticks": ""
             }
            },
            "type": "scattergl"
           }
          ],
          "scattermapbox": [
           {
            "marker": {
             "colorbar": {
              "outlinewidth": 0,
              "ticks": ""
             }
            },
            "type": "scattermapbox"
           }
          ],
          "scatterpolar": [
           {
            "marker": {
             "colorbar": {
              "outlinewidth": 0,
              "ticks": ""
             }
            },
            "type": "scatterpolar"
           }
          ],
          "scatterpolargl": [
           {
            "marker": {
             "colorbar": {
              "outlinewidth": 0,
              "ticks": ""
             }
            },
            "type": "scatterpolargl"
           }
          ],
          "scatterternary": [
           {
            "marker": {
             "colorbar": {
              "outlinewidth": 0,
              "ticks": ""
             }
            },
            "type": "scatterternary"
           }
          ],
          "surface": [
           {
            "colorbar": {
             "outlinewidth": 0,
             "ticks": ""
            },
            "colorscale": [
             [
              0,
              "#0d0887"
             ],
             [
              0.1111111111111111,
              "#46039f"
             ],
             [
              0.2222222222222222,
              "#7201a8"
             ],
             [
              0.3333333333333333,
              "#9c179e"
             ],
             [
              0.4444444444444444,
              "#bd3786"
             ],
             [
              0.5555555555555556,
              "#d8576b"
             ],
             [
              0.6666666666666666,
              "#ed7953"
             ],
             [
              0.7777777777777778,
              "#fb9f3a"
             ],
             [
              0.8888888888888888,
              "#fdca26"
             ],
             [
              1,
              "#f0f921"
             ]
            ],
            "type": "surface"
           }
          ],
          "table": [
           {
            "cells": {
             "fill": {
              "color": "#EBF0F8"
             },
             "line": {
              "color": "white"
             }
            },
            "header": {
             "fill": {
              "color": "#C8D4E3"
             },
             "line": {
              "color": "white"
             }
            },
            "type": "table"
           }
          ]
         },
         "layout": {
          "annotationdefaults": {
           "arrowcolor": "#2a3f5f",
           "arrowhead": 0,
           "arrowwidth": 1
          },
          "autotypenumbers": "strict",
          "coloraxis": {
           "colorbar": {
            "outlinewidth": 0,
            "ticks": ""
           }
          },
          "colorscale": {
           "diverging": [
            [
             0,
             "#8e0152"
            ],
            [
             0.1,
             "#c51b7d"
            ],
            [
             0.2,
             "#de77ae"
            ],
            [
             0.3,
             "#f1b6da"
            ],
            [
             0.4,
             "#fde0ef"
            ],
            [
             0.5,
             "#f7f7f7"
            ],
            [
             0.6,
             "#e6f5d0"
            ],
            [
             0.7,
             "#b8e186"
            ],
            [
             0.8,
             "#7fbc41"
            ],
            [
             0.9,
             "#4d9221"
            ],
            [
             1,
             "#276419"
            ]
           ],
           "sequential": [
            [
             0,
             "#0d0887"
            ],
            [
             0.1111111111111111,
             "#46039f"
            ],
            [
             0.2222222222222222,
             "#7201a8"
            ],
            [
             0.3333333333333333,
             "#9c179e"
            ],
            [
             0.4444444444444444,
             "#bd3786"
            ],
            [
             0.5555555555555556,
             "#d8576b"
            ],
            [
             0.6666666666666666,
             "#ed7953"
            ],
            [
             0.7777777777777778,
             "#fb9f3a"
            ],
            [
             0.8888888888888888,
             "#fdca26"
            ],
            [
             1,
             "#f0f921"
            ]
           ],
           "sequentialminus": [
            [
             0,
             "#0d0887"
            ],
            [
             0.1111111111111111,
             "#46039f"
            ],
            [
             0.2222222222222222,
             "#7201a8"
            ],
            [
             0.3333333333333333,
             "#9c179e"
            ],
            [
             0.4444444444444444,
             "#bd3786"
            ],
            [
             0.5555555555555556,
             "#d8576b"
            ],
            [
             0.6666666666666666,
             "#ed7953"
            ],
            [
             0.7777777777777778,
             "#fb9f3a"
            ],
            [
             0.8888888888888888,
             "#fdca26"
            ],
            [
             1,
             "#f0f921"
            ]
           ]
          },
          "colorway": [
           "#636efa",
           "#EF553B",
           "#00cc96",
           "#ab63fa",
           "#FFA15A",
           "#19d3f3",
           "#FF6692",
           "#B6E880",
           "#FF97FF",
           "#FECB52"
          ],
          "font": {
           "color": "#2a3f5f"
          },
          "geo": {
           "bgcolor": "white",
           "lakecolor": "white",
           "landcolor": "#E5ECF6",
           "showlakes": true,
           "showland": true,
           "subunitcolor": "white"
          },
          "hoverlabel": {
           "align": "left"
          },
          "hovermode": "closest",
          "mapbox": {
           "style": "light"
          },
          "paper_bgcolor": "white",
          "plot_bgcolor": "#E5ECF6",
          "polar": {
           "angularaxis": {
            "gridcolor": "white",
            "linecolor": "white",
            "ticks": ""
           },
           "bgcolor": "#E5ECF6",
           "radialaxis": {
            "gridcolor": "white",
            "linecolor": "white",
            "ticks": ""
           }
          },
          "scene": {
           "xaxis": {
            "backgroundcolor": "#E5ECF6",
            "gridcolor": "white",
            "gridwidth": 2,
            "linecolor": "white",
            "showbackground": true,
            "ticks": "",
            "zerolinecolor": "white"
           },
           "yaxis": {
            "backgroundcolor": "#E5ECF6",
            "gridcolor": "white",
            "gridwidth": 2,
            "linecolor": "white",
            "showbackground": true,
            "ticks": "",
            "zerolinecolor": "white"
           },
           "zaxis": {
            "backgroundcolor": "#E5ECF6",
            "gridcolor": "white",
            "gridwidth": 2,
            "linecolor": "white",
            "showbackground": true,
            "ticks": "",
            "zerolinecolor": "white"
           }
          },
          "shapedefaults": {
           "line": {
            "color": "#2a3f5f"
           }
          },
          "ternary": {
           "aaxis": {
            "gridcolor": "white",
            "linecolor": "white",
            "ticks": ""
           },
           "baxis": {
            "gridcolor": "white",
            "linecolor": "white",
            "ticks": ""
           },
           "bgcolor": "#E5ECF6",
           "caxis": {
            "gridcolor": "white",
            "linecolor": "white",
            "ticks": ""
           }
          },
          "title": {
           "x": 0.05
          },
          "xaxis": {
           "automargin": true,
           "gridcolor": "white",
           "linecolor": "white",
           "ticks": "",
           "title": {
            "standoff": 15
           },
           "zerolinecolor": "white",
           "zerolinewidth": 2
          },
          "yaxis": {
           "automargin": true,
           "gridcolor": "white",
           "linecolor": "white",
           "ticks": "",
           "title": {
            "standoff": 15
           },
           "zerolinecolor": "white",
           "zerolinewidth": 2
          }
         }
        },
        "width": 1200,
        "xaxis": {
         "gridcolor": "rgba(200,200,200,0.4)",
         "showgrid": true,
         "tickangle": -45,
         "tickmode": "array",
         "title": {
          "text": "Date"
         }
        },
        "yaxis": {
         "gridcolor": "rgba(200,200,200,0.4)",
         "showgrid": true,
         "title": {
          "text": "Percentage (%)"
         }
        }
       }
      }
     },
     "metadata": {},
     "output_type": "display_data"
    }
   ],
   "source": [
    "import pandas as pd\n",
    "import plotly.graph_objects as go\n",
    "\n",
    "df_android['Other'] = df_android['Execution'] - df_android['Passed'] - df_android['Failed']\n",
    "\n",
    "# Create figure\n",
    "fig = go.Figure()\n",
    "\n",
    "# Stacked Bar: Passed (Muted Green)\n",
    "fig.add_trace(go.Bar(\n",
    "    x=df_android['Tanggal'],\n",
    "    y=df_android['Passed'],\n",
    "    name='Passed',\n",
    "    marker_color='#6D9F71',  # Muted green\n",
    "    text=df_android['Passed'].apply(lambda x: f\"{x:.2f}%\"),  # Format as percentage\n",
    "    textposition='inside',\n",
    "    textfont=dict(size=14, color='white'),\n",
    "    hoverinfo='x+y+name'\n",
    "))\n",
    "\n",
    "# Stacked Bar: Failed (Muted Red)\n",
    "fig.add_trace(go.Bar(\n",
    "    x=df_android['Tanggal'],\n",
    "    y=df_android['Failed'],\n",
    "    name='Failed',\n",
    "    marker_color='#C44E52',  # Muted red\n",
    "    text=df_android['Failed'].apply(lambda x: f\"{x:.2f}%\"),  # Format as percentage\n",
    "    textposition='inside',\n",
    "    textfont=dict(size=14, color='white'),\n",
    "    hoverinfo='x+y+name'\n",
    "))\n",
    "\n",
    "fig.add_trace(go.Bar(\n",
    "    x=df_android['Tanggal'],\n",
    "    y=df_android['Other'],\n",
    "    name='Other',\n",
    "    marker_color='#ddd',  # Muted red\n",
    "    text=df_android['Other'].apply(lambda x: f\"{x:.2f}%\"),  # Format as percentage\n",
    "    textposition='inside',\n",
    "    textfont=dict(size=14, color='white'),\n",
    "    hoverinfo='x+y+name'\n",
    "))\n",
    "\n",
    "# Execution Line (Deep Blue)\n",
    "fig.add_trace(go.Scatter(\n",
    "    x=df_android['Tanggal'],\n",
    "    y=df_android['Execution'],\n",
    "    name='Execution',\n",
    "    mode='lines+markers',\n",
    "    line=dict(color='#41729F', width=3, dash='solid'),\n",
    "    marker=dict(size=8, symbol='circle'),\n",
    "    text=df_android['Execution'].apply(lambda x: f\"{x:.2f}%\"),  # Format as percentage\n",
    "    textposition='top center',\n",
    "    hoverinfo='x+y+name'\n",
    "))\n",
    "\n",
    "# Target Execution (Dashed Dark Gray Line)\n",
    "fig.add_trace(go.Scatter(\n",
    "    x=df_android['Tanggal'],\n",
    "    y=df_android['Target Execution'],\n",
    "    name='Target Execution',\n",
    "    mode='lines+markers',\n",
    "    line=dict(color='#555555', width=2, dash='dash'),  # Dark gray dashed line\n",
    "    marker=dict(size=7, symbol='diamond', color='#555555'),\n",
    "    text=df_android['Target Execution'].apply(lambda x: f\"{x:.2f}%\"),  # Format as percentage\n",
    "    textposition='top center',\n",
    "    hoverinfo='x+y+name'\n",
    "))\n",
    "\n",
    "# Add annotations for Execution values (Larger Font)\n",
    "for i in range(len(df_android)):\n",
    "    date = df_android['Tanggal'].iloc[i]\n",
    "    execution_val = df_android['Execution'].iloc[i]  # ✅ Fixed issue\n",
    "    \n",
    "    fig.add_annotation(\n",
    "        x=date, \n",
    "        y=execution_val + 5,  # Offset to avoid overlap\n",
    "        text=f\"{execution_val:.2f}%\",  # Rounded percentage\n",
    "        showarrow=False,\n",
    "        font=dict(size=11, color='black'),  # Larger and readable\n",
    "        align='center'\n",
    "    )\n",
    "\n",
    "# Layout Customization\n",
    "fig.update_layout(\n",
    "    xaxis=dict(\n",
    "        title='Date',\n",
    "        tickmode='array',\n",
    "        tickangle=-45,\n",
    "        showgrid=True,\n",
    "        gridcolor='rgba(200,200,200,0.4)',  # Softer grid\n",
    "    ),\n",
    "    yaxis=dict(\n",
    "        title='Percentage (%)',\n",
    "        showgrid=True,\n",
    "        gridcolor='rgba(200,200,200,0.4)',\n",
    "    ),\n",
    "    barmode='stack',\n",
    "    hovermode='x unified',\n",
    "    legend=dict(\n",
    "        title='Metrics',\n",
    "        bordercolor='black',\n",
    "        borderwidth=1\n",
    "    ),\n",
    "    plot_bgcolor='white',\n",
    "    width=1200,\n",
    "    height=500,\n",
    "    \n",
    ")\n",
    "\n",
    "# Show plot\n",
    "fig.show()\n"
   ]
  },
  {
   "cell_type": "code",
   "execution_count": 21,
   "metadata": {},
   "outputs": [
    {
     "name": "stderr",
     "output_type": "stream",
     "text": [
      "C:\\Users\\nahar\\AppData\\Local\\Temp\\ipykernel_4804\\2272763159.py:5: SettingWithCopyWarning:\n",
      "\n",
      "\n",
      "A value is trying to be set on a copy of a slice from a DataFrame.\n",
      "Try using .loc[row_indexer,col_indexer] = value instead\n",
      "\n",
      "See the caveats in the documentation: https://pandas.pydata.org/pandas-docs/stable/user_guide/indexing.html#returning-a-view-versus-a-copy\n",
      "\n"
     ]
    },
    {
     "data": {
      "application/vnd.plotly.v1+json": {
       "config": {
        "plotlyServerURL": "https://plot.ly"
       },
       "data": [
        {
         "hoverinfo": "x+y+name",
         "marker": {
          "color": "#79B791"
         },
         "name": "Passed",
         "text": [
          "16.91%",
          "36.52%",
          "54.39%",
          "67.63%",
          "77.57%",
          "84.22%",
          "88.09%",
          "91.02%",
          "91.99%",
          "94.00%",
          "96.51%",
          "96.66%"
         ],
         "textposition": "inside",
         "type": "bar",
         "x": [
          "2025-01-13T00:00:00",
          "2025-01-14T00:00:00",
          "2025-01-15T00:00:00",
          "2025-01-16T00:00:00",
          "2025-01-17T00:00:00",
          "2025-01-20T00:00:00",
          "2025-01-21T00:00:00",
          "2025-01-22T00:00:00",
          "2025-01-23T00:00:00",
          "2025-01-24T00:00:00",
          "2025-01-25T00:00:00",
          "2025-01-30T00:00:00"
         ],
         "y": [
          16.91,
          36.52,
          54.39000000000001,
          67.63,
          77.57,
          84.22,
          88.09,
          91.02,
          91.99000000000001,
          94,
          96.50999999999999,
          96.66
         ]
        },
        {
         "hoverinfo": "x+y+name",
         "marker": {
          "color": "#d1807d"
         },
         "name": "Failed",
         "text": [
          "1.78%",
          "4.73%",
          "6.32%",
          "6.71%",
          "8.82%",
          "6.18%",
          "6.21%",
          "5.03%",
          "4.58%",
          "3.69%",
          "2.78%",
          "2.70%"
         ],
         "textposition": "inside",
         "type": "bar",
         "x": [
          "2025-01-13T00:00:00",
          "2025-01-14T00:00:00",
          "2025-01-15T00:00:00",
          "2025-01-16T00:00:00",
          "2025-01-17T00:00:00",
          "2025-01-20T00:00:00",
          "2025-01-21T00:00:00",
          "2025-01-22T00:00:00",
          "2025-01-23T00:00:00",
          "2025-01-24T00:00:00",
          "2025-01-25T00:00:00",
          "2025-01-30T00:00:00"
         ],
         "y": [
          1.78,
          4.73,
          6.32,
          6.710000000000001,
          8.82,
          6.18,
          6.21,
          5.029999999999999,
          4.58,
          3.6900000000000004,
          2.78,
          2.7
         ]
        },
        {
         "hoverinfo": "x+y+name",
         "marker": {
          "color": "#AAAAAA"
         },
         "name": "Other",
         "text": [
          "0.49%",
          "0.63%",
          "3.02%",
          "1.10%",
          "3.16%",
          "0.82%",
          "3.04%",
          "2.98%",
          "3.29%",
          "2.21%",
          "0.71%",
          "0.64%"
         ],
         "textposition": "inside",
         "type": "bar",
         "x": [
          "2025-01-13T00:00:00",
          "2025-01-14T00:00:00",
          "2025-01-15T00:00:00",
          "2025-01-16T00:00:00",
          "2025-01-17T00:00:00",
          "2025-01-20T00:00:00",
          "2025-01-21T00:00:00",
          "2025-01-22T00:00:00",
          "2025-01-23T00:00:00",
          "2025-01-24T00:00:00",
          "2025-01-25T00:00:00",
          "2025-01-30T00:00:00"
         ],
         "y": [
          0.48999999999999955,
          0.629999999999999,
          3.019999999999989,
          1.1000000000000014,
          3.1600000000000037,
          0.8200000000000003,
          3.04,
          2.9800000000000058,
          3.2899999999999903,
          2.2100000000000053,
          0.7100000000000093,
          0.6400000000000032
         ]
        },
        {
         "hoverinfo": "x+y+name",
         "line": {
          "color": "#3C5D7C",
          "width": 3
         },
         "mode": "lines+markers",
         "name": "Execution",
         "type": "scatter",
         "x": [
          "2025-01-13T00:00:00",
          "2025-01-14T00:00:00",
          "2025-01-15T00:00:00",
          "2025-01-16T00:00:00",
          "2025-01-17T00:00:00",
          "2025-01-20T00:00:00",
          "2025-01-21T00:00:00",
          "2025-01-22T00:00:00",
          "2025-01-23T00:00:00",
          "2025-01-24T00:00:00",
          "2025-01-25T00:00:00",
          "2025-01-30T00:00:00"
         ],
         "y": [
          19.18,
          41.88,
          63.73,
          75.44,
          89.55,
          91.22,
          97.34,
          99.03,
          99.86,
          99.9,
          100,
          100
         ]
        },
        {
         "hoverinfo": "x+y+name",
         "line": {
          "color": "#555555",
          "dash": "dash",
          "width": 2
         },
         "mode": "lines+markers",
         "name": "Target Execution",
         "type": "scatter",
         "x": [
          "2025-01-13T00:00:00",
          "2025-01-14T00:00:00",
          "2025-01-15T00:00:00",
          "2025-01-16T00:00:00",
          "2025-01-17T00:00:00",
          "2025-01-20T00:00:00",
          "2025-01-21T00:00:00",
          "2025-01-22T00:00:00",
          "2025-01-23T00:00:00",
          "2025-01-24T00:00:00",
          "2025-01-25T00:00:00",
          "2025-01-30T00:00:00"
         ],
         "y": [
          20,
          40,
          50,
          60,
          70,
          80,
          84,
          88,
          92,
          96,
          100,
          100
         ]
        }
       ],
       "layout": {
        "barmode": "stack",
        "height": 600,
        "hovermode": "x unified",
        "legend": {
         "orientation": "h",
         "x": 0.5,
         "xanchor": "center",
         "y": 1.02,
         "yanchor": "bottom"
        },
        "plot_bgcolor": "white",
        "template": {
         "data": {
          "bar": [
           {
            "error_x": {
             "color": "#2a3f5f"
            },
            "error_y": {
             "color": "#2a3f5f"
            },
            "marker": {
             "line": {
              "color": "#E5ECF6",
              "width": 0.5
             },
             "pattern": {
              "fillmode": "overlay",
              "size": 10,
              "solidity": 0.2
             }
            },
            "type": "bar"
           }
          ],
          "barpolar": [
           {
            "marker": {
             "line": {
              "color": "#E5ECF6",
              "width": 0.5
             },
             "pattern": {
              "fillmode": "overlay",
              "size": 10,
              "solidity": 0.2
             }
            },
            "type": "barpolar"
           }
          ],
          "carpet": [
           {
            "aaxis": {
             "endlinecolor": "#2a3f5f",
             "gridcolor": "white",
             "linecolor": "white",
             "minorgridcolor": "white",
             "startlinecolor": "#2a3f5f"
            },
            "baxis": {
             "endlinecolor": "#2a3f5f",
             "gridcolor": "white",
             "linecolor": "white",
             "minorgridcolor": "white",
             "startlinecolor": "#2a3f5f"
            },
            "type": "carpet"
           }
          ],
          "choropleth": [
           {
            "colorbar": {
             "outlinewidth": 0,
             "ticks": ""
            },
            "type": "choropleth"
           }
          ],
          "contour": [
           {
            "colorbar": {
             "outlinewidth": 0,
             "ticks": ""
            },
            "colorscale": [
             [
              0,
              "#0d0887"
             ],
             [
              0.1111111111111111,
              "#46039f"
             ],
             [
              0.2222222222222222,
              "#7201a8"
             ],
             [
              0.3333333333333333,
              "#9c179e"
             ],
             [
              0.4444444444444444,
              "#bd3786"
             ],
             [
              0.5555555555555556,
              "#d8576b"
             ],
             [
              0.6666666666666666,
              "#ed7953"
             ],
             [
              0.7777777777777778,
              "#fb9f3a"
             ],
             [
              0.8888888888888888,
              "#fdca26"
             ],
             [
              1,
              "#f0f921"
             ]
            ],
            "type": "contour"
           }
          ],
          "contourcarpet": [
           {
            "colorbar": {
             "outlinewidth": 0,
             "ticks": ""
            },
            "type": "contourcarpet"
           }
          ],
          "heatmap": [
           {
            "colorbar": {
             "outlinewidth": 0,
             "ticks": ""
            },
            "colorscale": [
             [
              0,
              "#0d0887"
             ],
             [
              0.1111111111111111,
              "#46039f"
             ],
             [
              0.2222222222222222,
              "#7201a8"
             ],
             [
              0.3333333333333333,
              "#9c179e"
             ],
             [
              0.4444444444444444,
              "#bd3786"
             ],
             [
              0.5555555555555556,
              "#d8576b"
             ],
             [
              0.6666666666666666,
              "#ed7953"
             ],
             [
              0.7777777777777778,
              "#fb9f3a"
             ],
             [
              0.8888888888888888,
              "#fdca26"
             ],
             [
              1,
              "#f0f921"
             ]
            ],
            "type": "heatmap"
           }
          ],
          "heatmapgl": [
           {
            "colorbar": {
             "outlinewidth": 0,
             "ticks": ""
            },
            "colorscale": [
             [
              0,
              "#0d0887"
             ],
             [
              0.1111111111111111,
              "#46039f"
             ],
             [
              0.2222222222222222,
              "#7201a8"
             ],
             [
              0.3333333333333333,
              "#9c179e"
             ],
             [
              0.4444444444444444,
              "#bd3786"
             ],
             [
              0.5555555555555556,
              "#d8576b"
             ],
             [
              0.6666666666666666,
              "#ed7953"
             ],
             [
              0.7777777777777778,
              "#fb9f3a"
             ],
             [
              0.8888888888888888,
              "#fdca26"
             ],
             [
              1,
              "#f0f921"
             ]
            ],
            "type": "heatmapgl"
           }
          ],
          "histogram": [
           {
            "marker": {
             "pattern": {
              "fillmode": "overlay",
              "size": 10,
              "solidity": 0.2
             }
            },
            "type": "histogram"
           }
          ],
          "histogram2d": [
           {
            "colorbar": {
             "outlinewidth": 0,
             "ticks": ""
            },
            "colorscale": [
             [
              0,
              "#0d0887"
             ],
             [
              0.1111111111111111,
              "#46039f"
             ],
             [
              0.2222222222222222,
              "#7201a8"
             ],
             [
              0.3333333333333333,
              "#9c179e"
             ],
             [
              0.4444444444444444,
              "#bd3786"
             ],
             [
              0.5555555555555556,
              "#d8576b"
             ],
             [
              0.6666666666666666,
              "#ed7953"
             ],
             [
              0.7777777777777778,
              "#fb9f3a"
             ],
             [
              0.8888888888888888,
              "#fdca26"
             ],
             [
              1,
              "#f0f921"
             ]
            ],
            "type": "histogram2d"
           }
          ],
          "histogram2dcontour": [
           {
            "colorbar": {
             "outlinewidth": 0,
             "ticks": ""
            },
            "colorscale": [
             [
              0,
              "#0d0887"
             ],
             [
              0.1111111111111111,
              "#46039f"
             ],
             [
              0.2222222222222222,
              "#7201a8"
             ],
             [
              0.3333333333333333,
              "#9c179e"
             ],
             [
              0.4444444444444444,
              "#bd3786"
             ],
             [
              0.5555555555555556,
              "#d8576b"
             ],
             [
              0.6666666666666666,
              "#ed7953"
             ],
             [
              0.7777777777777778,
              "#fb9f3a"
             ],
             [
              0.8888888888888888,
              "#fdca26"
             ],
             [
              1,
              "#f0f921"
             ]
            ],
            "type": "histogram2dcontour"
           }
          ],
          "mesh3d": [
           {
            "colorbar": {
             "outlinewidth": 0,
             "ticks": ""
            },
            "type": "mesh3d"
           }
          ],
          "parcoords": [
           {
            "line": {
             "colorbar": {
              "outlinewidth": 0,
              "ticks": ""
             }
            },
            "type": "parcoords"
           }
          ],
          "pie": [
           {
            "automargin": true,
            "type": "pie"
           }
          ],
          "scatter": [
           {
            "fillpattern": {
             "fillmode": "overlay",
             "size": 10,
             "solidity": 0.2
            },
            "type": "scatter"
           }
          ],
          "scatter3d": [
           {
            "line": {
             "colorbar": {
              "outlinewidth": 0,
              "ticks": ""
             }
            },
            "marker": {
             "colorbar": {
              "outlinewidth": 0,
              "ticks": ""
             }
            },
            "type": "scatter3d"
           }
          ],
          "scattercarpet": [
           {
            "marker": {
             "colorbar": {
              "outlinewidth": 0,
              "ticks": ""
             }
            },
            "type": "scattercarpet"
           }
          ],
          "scattergeo": [
           {
            "marker": {
             "colorbar": {
              "outlinewidth": 0,
              "ticks": ""
             }
            },
            "type": "scattergeo"
           }
          ],
          "scattergl": [
           {
            "marker": {
             "colorbar": {
              "outlinewidth": 0,
              "ticks": ""
             }
            },
            "type": "scattergl"
           }
          ],
          "scattermapbox": [
           {
            "marker": {
             "colorbar": {
              "outlinewidth": 0,
              "ticks": ""
             }
            },
            "type": "scattermapbox"
           }
          ],
          "scatterpolar": [
           {
            "marker": {
             "colorbar": {
              "outlinewidth": 0,
              "ticks": ""
             }
            },
            "type": "scatterpolar"
           }
          ],
          "scatterpolargl": [
           {
            "marker": {
             "colorbar": {
              "outlinewidth": 0,
              "ticks": ""
             }
            },
            "type": "scatterpolargl"
           }
          ],
          "scatterternary": [
           {
            "marker": {
             "colorbar": {
              "outlinewidth": 0,
              "ticks": ""
             }
            },
            "type": "scatterternary"
           }
          ],
          "surface": [
           {
            "colorbar": {
             "outlinewidth": 0,
             "ticks": ""
            },
            "colorscale": [
             [
              0,
              "#0d0887"
             ],
             [
              0.1111111111111111,
              "#46039f"
             ],
             [
              0.2222222222222222,
              "#7201a8"
             ],
             [
              0.3333333333333333,
              "#9c179e"
             ],
             [
              0.4444444444444444,
              "#bd3786"
             ],
             [
              0.5555555555555556,
              "#d8576b"
             ],
             [
              0.6666666666666666,
              "#ed7953"
             ],
             [
              0.7777777777777778,
              "#fb9f3a"
             ],
             [
              0.8888888888888888,
              "#fdca26"
             ],
             [
              1,
              "#f0f921"
             ]
            ],
            "type": "surface"
           }
          ],
          "table": [
           {
            "cells": {
             "fill": {
              "color": "#EBF0F8"
             },
             "line": {
              "color": "white"
             }
            },
            "header": {
             "fill": {
              "color": "#C8D4E3"
             },
             "line": {
              "color": "white"
             }
            },
            "type": "table"
           }
          ]
         },
         "layout": {
          "annotationdefaults": {
           "arrowcolor": "#2a3f5f",
           "arrowhead": 0,
           "arrowwidth": 1
          },
          "autotypenumbers": "strict",
          "coloraxis": {
           "colorbar": {
            "outlinewidth": 0,
            "ticks": ""
           }
          },
          "colorscale": {
           "diverging": [
            [
             0,
             "#8e0152"
            ],
            [
             0.1,
             "#c51b7d"
            ],
            [
             0.2,
             "#de77ae"
            ],
            [
             0.3,
             "#f1b6da"
            ],
            [
             0.4,
             "#fde0ef"
            ],
            [
             0.5,
             "#f7f7f7"
            ],
            [
             0.6,
             "#e6f5d0"
            ],
            [
             0.7,
             "#b8e186"
            ],
            [
             0.8,
             "#7fbc41"
            ],
            [
             0.9,
             "#4d9221"
            ],
            [
             1,
             "#276419"
            ]
           ],
           "sequential": [
            [
             0,
             "#0d0887"
            ],
            [
             0.1111111111111111,
             "#46039f"
            ],
            [
             0.2222222222222222,
             "#7201a8"
            ],
            [
             0.3333333333333333,
             "#9c179e"
            ],
            [
             0.4444444444444444,
             "#bd3786"
            ],
            [
             0.5555555555555556,
             "#d8576b"
            ],
            [
             0.6666666666666666,
             "#ed7953"
            ],
            [
             0.7777777777777778,
             "#fb9f3a"
            ],
            [
             0.8888888888888888,
             "#fdca26"
            ],
            [
             1,
             "#f0f921"
            ]
           ],
           "sequentialminus": [
            [
             0,
             "#0d0887"
            ],
            [
             0.1111111111111111,
             "#46039f"
            ],
            [
             0.2222222222222222,
             "#7201a8"
            ],
            [
             0.3333333333333333,
             "#9c179e"
            ],
            [
             0.4444444444444444,
             "#bd3786"
            ],
            [
             0.5555555555555556,
             "#d8576b"
            ],
            [
             0.6666666666666666,
             "#ed7953"
            ],
            [
             0.7777777777777778,
             "#fb9f3a"
            ],
            [
             0.8888888888888888,
             "#fdca26"
            ],
            [
             1,
             "#f0f921"
            ]
           ]
          },
          "colorway": [
           "#636efa",
           "#EF553B",
           "#00cc96",
           "#ab63fa",
           "#FFA15A",
           "#19d3f3",
           "#FF6692",
           "#B6E880",
           "#FF97FF",
           "#FECB52"
          ],
          "font": {
           "color": "#2a3f5f"
          },
          "geo": {
           "bgcolor": "white",
           "lakecolor": "white",
           "landcolor": "#E5ECF6",
           "showlakes": true,
           "showland": true,
           "subunitcolor": "white"
          },
          "hoverlabel": {
           "align": "left"
          },
          "hovermode": "closest",
          "mapbox": {
           "style": "light"
          },
          "paper_bgcolor": "white",
          "plot_bgcolor": "#E5ECF6",
          "polar": {
           "angularaxis": {
            "gridcolor": "white",
            "linecolor": "white",
            "ticks": ""
           },
           "bgcolor": "#E5ECF6",
           "radialaxis": {
            "gridcolor": "white",
            "linecolor": "white",
            "ticks": ""
           }
          },
          "scene": {
           "xaxis": {
            "backgroundcolor": "#E5ECF6",
            "gridcolor": "white",
            "gridwidth": 2,
            "linecolor": "white",
            "showbackground": true,
            "ticks": "",
            "zerolinecolor": "white"
           },
           "yaxis": {
            "backgroundcolor": "#E5ECF6",
            "gridcolor": "white",
            "gridwidth": 2,
            "linecolor": "white",
            "showbackground": true,
            "ticks": "",
            "zerolinecolor": "white"
           },
           "zaxis": {
            "backgroundcolor": "#E5ECF6",
            "gridcolor": "white",
            "gridwidth": 2,
            "linecolor": "white",
            "showbackground": true,
            "ticks": "",
            "zerolinecolor": "white"
           }
          },
          "shapedefaults": {
           "line": {
            "color": "#2a3f5f"
           }
          },
          "ternary": {
           "aaxis": {
            "gridcolor": "white",
            "linecolor": "white",
            "ticks": ""
           },
           "baxis": {
            "gridcolor": "white",
            "linecolor": "white",
            "ticks": ""
           },
           "bgcolor": "#E5ECF6",
           "caxis": {
            "gridcolor": "white",
            "linecolor": "white",
            "ticks": ""
           }
          },
          "title": {
           "x": 0.05
          },
          "xaxis": {
           "automargin": true,
           "gridcolor": "white",
           "linecolor": "white",
           "ticks": "",
           "title": {
            "standoff": 15
           },
           "zerolinecolor": "white",
           "zerolinewidth": 2
          },
          "yaxis": {
           "automargin": true,
           "gridcolor": "white",
           "linecolor": "white",
           "ticks": "",
           "title": {
            "standoff": 15
           },
           "zerolinecolor": "white",
           "zerolinewidth": 2
          }
         }
        },
        "width": 1600,
        "xaxis": {
         "title": {
          "text": "Date"
         }
        },
        "yaxis": {
         "title": {
          "text": "Percentage (%)"
         }
        }
       }
      }
     },
     "metadata": {},
     "output_type": "display_data"
    }
   ],
   "source": [
    "import pandas as pd\n",
    "import plotly.graph_objects as go\n",
    "\n",
    "# Ensure 'Other' is non-negative\n",
    "df_android['Other'] = (df_android['Execution'] - df_android['Passed'] - df_android['Failed']).clip(lower=0)\n",
    "\n",
    "# Create figure\n",
    "fig = go.Figure()\n",
    "\n",
    "# Stacked Bar: Passed\n",
    "fig.add_trace(go.Bar(\n",
    "    x=df_android['Tanggal'],\n",
    "    y=df_android['Passed'],\n",
    "    name='Passed',\n",
    "    marker_color='#79B791',\n",
    "    text=df_android['Passed'].apply(lambda x: f\"{x:.2f}%\"),\n",
    "    textposition='inside',\n",
    "    hoverinfo='x+y+name'\n",
    "))\n",
    "\n",
    "# Stacked Bar: Failed\n",
    "fig.add_trace(go.Bar(\n",
    "    x=df_android['Tanggal'],\n",
    "    y=df_android['Failed'],\n",
    "    name='Failed',\n",
    "    marker_color='#d1807d',\n",
    "    text=df_android['Failed'].apply(lambda x: f\"{x:.2f}%\"),\n",
    "    textposition='inside',\n",
    "    hoverinfo='x+y+name'\n",
    "))\n",
    "\n",
    "# Stacked Bar: Other\n",
    "fig.add_trace(go.Bar(\n",
    "    x=df_android['Tanggal'],\n",
    "    y=df_android['Other'],\n",
    "    name='Other',\n",
    "    marker_color='#AAAAAA',\n",
    "    text=df_android['Other'].apply(lambda x: f\"{x:.2f}%\"),\n",
    "    textposition='inside',\n",
    "    hoverinfo='x+y+name'\n",
    "))\n",
    "\n",
    "# Execution Line\n",
    "fig.add_trace(go.Scatter(\n",
    "    x=df_android['Tanggal'],\n",
    "    y=df_android['Execution'],\n",
    "    name='Execution',\n",
    "    mode='lines+markers',\n",
    "    line=dict(color='#3C5D7C', width=3),\n",
    "    hoverinfo='x+y+name'\n",
    "))\n",
    "\n",
    "# Target Execution Line\n",
    "fig.add_trace(go.Scatter(\n",
    "    x=df_android['Tanggal'],\n",
    "    y=df_android['Target Execution'],\n",
    "    name='Target Execution',\n",
    "    mode='lines+markers',\n",
    "    line=dict(color='#555555', width=2, dash='dash'),\n",
    "    hoverinfo='x+y+name'\n",
    "))\n",
    "\n",
    "# Layout Customization\n",
    "fig.update_layout(\n",
    "    xaxis_title='Date',\n",
    "    yaxis_title='Percentage (%)',\n",
    "    barmode='stack',\n",
    "    hovermode='x unified',\n",
    "    legend=dict(\n",
    "        orientation='h',\n",
    "        yanchor='bottom',\n",
    "        y=1.02,\n",
    "        xanchor='center',\n",
    "        x=0.5\n",
    "    ),\n",
    "    width=1600,  # Wider layout\n",
    "    height=600,\n",
    "    plot_bgcolor='white'\n",
    ")\n",
    "\n",
    "# Show plot\n",
    "fig.show()\n"
   ]
  },
  {
   "cell_type": "code",
   "execution_count": 25,
   "metadata": {},
   "outputs": [
    {
     "data": {
      "text/html": [
       "\n",
       "<style>\n",
       "  #altair-viz-0dc9bd67fcea44eea33f342dde00da2a.vega-embed {\n",
       "    width: 100%;\n",
       "    display: flex;\n",
       "  }\n",
       "\n",
       "  #altair-viz-0dc9bd67fcea44eea33f342dde00da2a.vega-embed details,\n",
       "  #altair-viz-0dc9bd67fcea44eea33f342dde00da2a.vega-embed details summary {\n",
       "    position: relative;\n",
       "  }\n",
       "</style>\n",
       "<div id=\"altair-viz-0dc9bd67fcea44eea33f342dde00da2a\"></div>\n",
       "<script type=\"text/javascript\">\n",
       "  var VEGA_DEBUG = (typeof VEGA_DEBUG == \"undefined\") ? {} : VEGA_DEBUG;\n",
       "  (function(spec, embedOpt){\n",
       "    let outputDiv = document.currentScript.previousElementSibling;\n",
       "    if (outputDiv.id !== \"altair-viz-0dc9bd67fcea44eea33f342dde00da2a\") {\n",
       "      outputDiv = document.getElementById(\"altair-viz-0dc9bd67fcea44eea33f342dde00da2a\");\n",
       "    }\n",
       "    const paths = {\n",
       "      \"vega\": \"https://cdn.jsdelivr.net/npm/vega@5?noext\",\n",
       "      \"vega-lib\": \"https://cdn.jsdelivr.net/npm/vega-lib?noext\",\n",
       "      \"vega-lite\": \"https://cdn.jsdelivr.net/npm/vega-lite@5.20.1?noext\",\n",
       "      \"vega-embed\": \"https://cdn.jsdelivr.net/npm/vega-embed@6?noext\",\n",
       "    };\n",
       "\n",
       "    function maybeLoadScript(lib, version) {\n",
       "      var key = `${lib.replace(\"-\", \"\")}_version`;\n",
       "      return (VEGA_DEBUG[key] == version) ?\n",
       "        Promise.resolve(paths[lib]) :\n",
       "        new Promise(function(resolve, reject) {\n",
       "          var s = document.createElement('script');\n",
       "          document.getElementsByTagName(\"head\")[0].appendChild(s);\n",
       "          s.async = true;\n",
       "          s.onload = () => {\n",
       "            VEGA_DEBUG[key] = version;\n",
       "            return resolve(paths[lib]);\n",
       "          };\n",
       "          s.onerror = () => reject(`Error loading script: ${paths[lib]}`);\n",
       "          s.src = paths[lib];\n",
       "        });\n",
       "    }\n",
       "\n",
       "    function showError(err) {\n",
       "      outputDiv.innerHTML = `<div class=\"error\" style=\"color:red;\">${err}</div>`;\n",
       "      throw err;\n",
       "    }\n",
       "\n",
       "    function displayChart(vegaEmbed) {\n",
       "      vegaEmbed(outputDiv, spec, embedOpt)\n",
       "        .catch(err => showError(`Javascript Error: ${err.message}<br>This usually means there's a typo in your chart specification. See the javascript console for the full traceback.`));\n",
       "    }\n",
       "\n",
       "    if(typeof define === \"function\" && define.amd) {\n",
       "      requirejs.config({paths});\n",
       "      require([\"vega-embed\"], displayChart, err => showError(`Error loading script: ${err.message}`));\n",
       "    } else {\n",
       "      maybeLoadScript(\"vega\", \"5\")\n",
       "        .then(() => maybeLoadScript(\"vega-lite\", \"5.20.1\"))\n",
       "        .then(() => maybeLoadScript(\"vega-embed\", \"6\"))\n",
       "        .catch(showError)\n",
       "        .then(() => displayChart(vegaEmbed));\n",
       "    }\n",
       "  })({\"config\": {\"view\": {\"continuousWidth\": 300, \"continuousHeight\": 300}}, \"layer\": [{\"data\": {\"name\": \"data-9089157809e67068c160862db9e7a60f\"}, \"mark\": {\"type\": \"bar\", \"size\": 20}, \"encoding\": {\"color\": {\"field\": \"Status\", \"scale\": {\"domain\": [\"Passed\", \"Failed\", \"Other\"], \"range\": [\"#79B791\", \"#d1807d\", \"#AAAAAA\"]}, \"type\": \"nominal\"}, \"tooltip\": [{\"field\": \"Tanggal\", \"type\": \"nominal\"}, {\"field\": \"Status\", \"type\": \"nominal\"}, {\"field\": \"Percentage\", \"type\": \"quantitative\"}], \"x\": {\"axis\": {\"labelAngle\": -45}, \"field\": \"Tanggal\", \"title\": \"Date\", \"type\": \"nominal\"}, \"y\": {\"aggregate\": \"sum\", \"field\": \"Percentage\", \"scale\": {\"domain\": [0, 100]}, \"title\": \"Percentage (%)\", \"type\": \"quantitative\"}}}, {\"data\": {\"name\": \"data-7d9404f23a427a27309d4ba31581683e\"}, \"mark\": {\"type\": \"line\", \"color\": \"#3C5D7C\", \"point\": true, \"strokeWidth\": 3}, \"encoding\": {\"tooltip\": [{\"field\": \"Tanggal\", \"type\": \"nominal\"}, {\"field\": \"Execution\", \"type\": \"quantitative\"}], \"x\": {\"field\": \"Tanggal\", \"type\": \"nominal\"}, \"y\": {\"field\": \"Execution\", \"type\": \"quantitative\"}}}, {\"data\": {\"name\": \"data-7d9404f23a427a27309d4ba31581683e\"}, \"mark\": {\"type\": \"line\", \"color\": \"#555555\", \"point\": true, \"strokeDash\": [5, 5], \"strokeWidth\": 2}, \"encoding\": {\"tooltip\": [{\"field\": \"Tanggal\", \"type\": \"nominal\"}, {\"field\": \"Target Execution\", \"type\": \"quantitative\"}], \"x\": {\"field\": \"Tanggal\", \"type\": \"nominal\"}, \"y\": {\"field\": \"Target Execution\", \"type\": \"quantitative\"}}}, {\"data\": {\"name\": \"data-7d9404f23a427a27309d4ba31581683e\"}, \"mark\": {\"type\": \"text\", \"align\": \"center\", \"color\": \"#3C5D7C\", \"dy\": -10, \"fontSize\": 12}, \"encoding\": {\"text\": {\"field\": \"Execution\", \"format\": \".1f\", \"type\": \"quantitative\"}, \"x\": {\"field\": \"Tanggal\", \"type\": \"nominal\"}, \"y\": {\"field\": \"Execution\", \"type\": \"quantitative\"}}}], \"height\": 600, \"width\": 1600, \"$schema\": \"https://vega.github.io/schema/vega-lite/v5.20.1.json\", \"datasets\": {\"data-9089157809e67068c160862db9e7a60f\": [{\"Tanggal\": \"2025-01-13\", \"Status\": \"Passed\", \"Percentage\": 16.91}, {\"Tanggal\": \"2025-01-14\", \"Status\": \"Passed\", \"Percentage\": 36.52}, {\"Tanggal\": \"2025-01-15\", \"Status\": \"Passed\", \"Percentage\": 54.39000000000001}, {\"Tanggal\": \"2025-01-16\", \"Status\": \"Passed\", \"Percentage\": 67.63}, {\"Tanggal\": \"2025-01-17\", \"Status\": \"Passed\", \"Percentage\": 77.57}, {\"Tanggal\": \"2025-01-20\", \"Status\": \"Passed\", \"Percentage\": 84.22}, {\"Tanggal\": \"2025-01-21\", \"Status\": \"Passed\", \"Percentage\": 88.09}, {\"Tanggal\": \"2025-01-22\", \"Status\": \"Passed\", \"Percentage\": 91.02}, {\"Tanggal\": \"2025-01-23\", \"Status\": \"Passed\", \"Percentage\": 91.99000000000001}, {\"Tanggal\": \"2025-01-24\", \"Status\": \"Passed\", \"Percentage\": 94.0}, {\"Tanggal\": \"2025-01-25\", \"Status\": \"Passed\", \"Percentage\": 96.50999999999999}, {\"Tanggal\": \"2025-01-30\", \"Status\": \"Passed\", \"Percentage\": 96.66}, {\"Tanggal\": \"2025-01-13\", \"Status\": \"Failed\", \"Percentage\": 1.78}, {\"Tanggal\": \"2025-01-14\", \"Status\": \"Failed\", \"Percentage\": 4.73}, {\"Tanggal\": \"2025-01-15\", \"Status\": \"Failed\", \"Percentage\": 6.32}, {\"Tanggal\": \"2025-01-16\", \"Status\": \"Failed\", \"Percentage\": 6.710000000000001}, {\"Tanggal\": \"2025-01-17\", \"Status\": \"Failed\", \"Percentage\": 8.82}, {\"Tanggal\": \"2025-01-20\", \"Status\": \"Failed\", \"Percentage\": 6.18}, {\"Tanggal\": \"2025-01-21\", \"Status\": \"Failed\", \"Percentage\": 6.21}, {\"Tanggal\": \"2025-01-22\", \"Status\": \"Failed\", \"Percentage\": 5.029999999999999}, {\"Tanggal\": \"2025-01-23\", \"Status\": \"Failed\", \"Percentage\": 4.58}, {\"Tanggal\": \"2025-01-24\", \"Status\": \"Failed\", \"Percentage\": 3.6900000000000004}, {\"Tanggal\": \"2025-01-25\", \"Status\": \"Failed\", \"Percentage\": 2.78}, {\"Tanggal\": \"2025-01-30\", \"Status\": \"Failed\", \"Percentage\": 2.7}, {\"Tanggal\": \"2025-01-13\", \"Status\": \"Other\", \"Percentage\": 0.48999999999999955}, {\"Tanggal\": \"2025-01-14\", \"Status\": \"Other\", \"Percentage\": 0.629999999999999}, {\"Tanggal\": \"2025-01-15\", \"Status\": \"Other\", \"Percentage\": 3.019999999999989}, {\"Tanggal\": \"2025-01-16\", \"Status\": \"Other\", \"Percentage\": 1.1000000000000014}, {\"Tanggal\": \"2025-01-17\", \"Status\": \"Other\", \"Percentage\": 3.1600000000000037}, {\"Tanggal\": \"2025-01-20\", \"Status\": \"Other\", \"Percentage\": 0.8200000000000003}, {\"Tanggal\": \"2025-01-21\", \"Status\": \"Other\", \"Percentage\": 3.04}, {\"Tanggal\": \"2025-01-22\", \"Status\": \"Other\", \"Percentage\": 2.9800000000000058}, {\"Tanggal\": \"2025-01-23\", \"Status\": \"Other\", \"Percentage\": 3.2899999999999903}, {\"Tanggal\": \"2025-01-24\", \"Status\": \"Other\", \"Percentage\": 2.2100000000000053}, {\"Tanggal\": \"2025-01-25\", \"Status\": \"Other\", \"Percentage\": 0.7100000000000093}, {\"Tanggal\": \"2025-01-30\", \"Status\": \"Other\", \"Percentage\": 0.6400000000000032}], \"data-7d9404f23a427a27309d4ba31581683e\": [{\"Tanggal\": \"2025-01-13\", \"Target Execution\": 20.0, \"OS\": \"Android\", \"Execution\": 19.18, \"Passed\": 16.91, \"Failed\": 1.78, \"Other\": 0.48999999999999955}, {\"Tanggal\": \"2025-01-14\", \"Target Execution\": 40.0, \"OS\": \"Android\", \"Execution\": 41.88, \"Passed\": 36.52, \"Failed\": 4.73, \"Other\": 0.629999999999999}, {\"Tanggal\": \"2025-01-15\", \"Target Execution\": 50.0, \"OS\": \"Android\", \"Execution\": 63.73, \"Passed\": 54.39000000000001, \"Failed\": 6.32, \"Other\": 3.019999999999989}, {\"Tanggal\": \"2025-01-16\", \"Target Execution\": 60.0, \"OS\": \"Android\", \"Execution\": 75.44, \"Passed\": 67.63, \"Failed\": 6.710000000000001, \"Other\": 1.1000000000000014}, {\"Tanggal\": \"2025-01-17\", \"Target Execution\": 70.0, \"OS\": \"Android\", \"Execution\": 89.55, \"Passed\": 77.57, \"Failed\": 8.82, \"Other\": 3.1600000000000037}, {\"Tanggal\": \"2025-01-20\", \"Target Execution\": 80.0, \"OS\": \"Android\", \"Execution\": 91.22, \"Passed\": 84.22, \"Failed\": 6.18, \"Other\": 0.8200000000000003}, {\"Tanggal\": \"2025-01-21\", \"Target Execution\": 84.0, \"OS\": \"Android\", \"Execution\": 97.34, \"Passed\": 88.09, \"Failed\": 6.21, \"Other\": 3.04}, {\"Tanggal\": \"2025-01-22\", \"Target Execution\": 88.0, \"OS\": \"Android\", \"Execution\": 99.03, \"Passed\": 91.02, \"Failed\": 5.029999999999999, \"Other\": 2.9800000000000058}, {\"Tanggal\": \"2025-01-23\", \"Target Execution\": 92.0, \"OS\": \"Android\", \"Execution\": 99.86, \"Passed\": 91.99000000000001, \"Failed\": 4.58, \"Other\": 3.2899999999999903}, {\"Tanggal\": \"2025-01-24\", \"Target Execution\": 96.0, \"OS\": \"Android\", \"Execution\": 99.9, \"Passed\": 94.0, \"Failed\": 3.6900000000000004, \"Other\": 2.2100000000000053}, {\"Tanggal\": \"2025-01-25\", \"Target Execution\": 100.0, \"OS\": \"Android\", \"Execution\": 100.0, \"Passed\": 96.50999999999999, \"Failed\": 2.78, \"Other\": 0.7100000000000093}, {\"Tanggal\": \"2025-01-30\", \"Target Execution\": 100.0, \"OS\": \"Android\", \"Execution\": 100.0, \"Passed\": 96.66, \"Failed\": 2.7, \"Other\": 0.6400000000000032}]}}, {\"mode\": \"vega-lite\"});\n",
       "</script>"
      ],
      "text/plain": [
       "alt.LayerChart(...)"
      ]
     },
     "metadata": {},
     "output_type": "display_data"
    }
   ],
   "source": [
    "import pandas as pd\n",
    "import altair as alt\n",
    "\n",
    "# Ensure 'Tanggal' is in datetime format\n",
    "df_android['Tanggal'] = pd.to_datetime(df_android['Tanggal'], errors='coerce')\n",
    "\n",
    "# Ensure 'Other' is non-negative\n",
    "df_android['Other'] = (df_android['Execution'] - df_android['Passed'] - df_android['Failed']).clip(lower=0)\n",
    "\n",
    "# Convert 'Tanggal' to string format (YYYY-MM-DD) to remove time\n",
    "df_android['Tanggal'] = df_android['Tanggal'].dt.strftime('%Y-%m-%d')\n",
    "\n",
    "# Convert to long format for Altair\n",
    "df_melted = df_android.melt(id_vars=['Tanggal'], value_vars=['Passed', 'Failed', 'Other'], \n",
    "                            var_name='Status', value_name='Percentage')\n",
    "\n",
    "# Stacked Bar Chart\n",
    "bars = alt.Chart(df_melted).mark_bar(size=20).encode(\n",
    "    x=alt.X('Tanggal:N', title='Date', axis=alt.Axis(labelAngle=-45)),  # Categorical to remove time\n",
    "    y=alt.Y('sum(Percentage):Q', title='Percentage (%)', scale=alt.Scale(domain=[0, 100])),\n",
    "    color=alt.Color('Status:N', scale=alt.Scale(domain=['Passed', 'Failed', 'Other'], \n",
    "                                                 range=['#79B791', '#d1807d', '#AAAAAA'])),\n",
    "    tooltip=['Tanggal:N', 'Status:N', 'Percentage:Q']\n",
    ")\n",
    "\n",
    "# Execution Line\n",
    "execution_line = alt.Chart(df_android).mark_line(point=True, strokeWidth=3, color='#3C5D7C').encode(\n",
    "    x='Tanggal:N',\n",
    "    y='Execution:Q',\n",
    "    tooltip=['Tanggal:N', 'Execution:Q']\n",
    ")\n",
    "\n",
    "# Target Execution Line\n",
    "target_line = alt.Chart(df_android).mark_line(point=True, strokeWidth=2, strokeDash=[5,5], color='#555555').encode(\n",
    "    x='Tanggal:N',\n",
    "    y='Target Execution:Q',\n",
    "    tooltip=['Tanggal:N', 'Target Execution:Q']\n",
    ")\n",
    "\n",
    "# Annotations for Execution values\n",
    "annotations = alt.Chart(df_android).mark_text(\n",
    "    align='center', dy=-10, fontSize=12, color='#3C5D7C'\n",
    ").encode(\n",
    "    x='Tanggal:N',\n",
    "    y='Execution:Q',\n",
    "    text=alt.Text('Execution:Q', format='.1f')\n",
    ")\n",
    "\n",
    "# Combine the charts\n",
    "final_chart = (bars + execution_line + target_line + annotations).properties(\n",
    "    width=1600,  # Wider layout\n",
    "    height=600\n",
    ")\n",
    "\n",
    "# Display in Streamlit\n",
    "final_chart.show()\n"
   ]
  },
  {
   "cell_type": "code",
   "execution_count": null,
   "metadata": {},
   "outputs": [],
   "source": []
  }
 ],
 "metadata": {
  "kernelspec": {
   "display_name": "base",
   "language": "python",
   "name": "python3"
  },
  "language_info": {
   "codemirror_mode": {
    "name": "ipython",
    "version": 3
   },
   "file_extension": ".py",
   "mimetype": "text/x-python",
   "name": "python",
   "nbconvert_exporter": "python",
   "pygments_lexer": "ipython3",
   "version": "3.11.4"
  }
 },
 "nbformat": 4,
 "nbformat_minor": 2
}
